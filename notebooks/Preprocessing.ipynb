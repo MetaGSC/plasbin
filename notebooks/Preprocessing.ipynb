{
  "nbformat": 4,
  "nbformat_minor": 0,
  "metadata": {
    "colab": {
      "name": "Preprocessing.ipynb",
      "provenance": [],
      "collapsed_sections": []
    },
    "kernelspec": {
      "display_name": "Python 3",
      "name": "python3"
    },
    "language_info": {
      "name": "python"
    },
    "accelerator": "GPU"
  },
  "cells": [
    {
      "cell_type": "markdown",
      "metadata": {
        "id": "5sRUbW7kFf9b"
      },
      "source": [
        "## TODO\n",
        "\n",
        "\n",
        "\n",
        "*   Do without Global\n",
        "\n",
        "*   Reduce the time in Initial for loop (seqs) \n",
        "*   Write the dataframe to file\n",
        "\n"
      ]
    },
    {
      "cell_type": "markdown",
      "metadata": {
        "id": "ZdylGF6rZNXd"
      },
      "source": [
        "##Install **Packages** and mount **Drive**"
      ]
    },
    {
      "cell_type": "code",
      "metadata": {
        "id": "4jT7AvBsGgID",
        "colab": {
          "base_uri": "https://localhost:8080/"
        },
        "outputId": "0bf84f7f-6179-4a9d-9838-19cee6ab4ad6"
      },
      "source": [
        "!pip install biopython\n",
        "#!pip install numpy torch==1.7.0+cpu torchvision==0.8.1+cpu torchaudio==0.7.0 -f https://download.pytorch.org/whl/torch_stable.html\n",
        "# torch.cuda.is_available()"
      ],
      "execution_count": null,
      "outputs": [
        {
          "output_type": "stream",
          "text": [
            "Requirement already satisfied: biopython in /usr/local/lib/python3.7/dist-packages (1.79)\n",
            "Requirement already satisfied: numpy in /usr/local/lib/python3.7/dist-packages (from biopython) (1.19.5)\n"
          ],
          "name": "stdout"
        }
      ]
    },
    {
      "cell_type": "code",
      "metadata": {
        "id": "BfvI58f8Q0iw",
        "colab": {
          "base_uri": "https://localhost:8080/"
        },
        "outputId": "081c183d-4129-49af-94b9-ed271d6b594b"
      },
      "source": [
        "from google.colab import drive\n",
        "drive.mount('/content/drive')"
      ],
      "execution_count": null,
      "outputs": [
        {
          "output_type": "stream",
          "text": [
            "Drive already mounted at /content/drive; to attempt to forcibly remount, call drive.mount(\"/content/drive\", force_remount=True).\n"
          ],
          "name": "stdout"
        }
      ]
    },
    {
      "cell_type": "markdown",
      "metadata": {
        "id": "tdNJz7FSCs62"
      },
      "source": [
        "Imports"
      ]
    },
    {
      "cell_type": "code",
      "metadata": {
        "id": "ff5ESPNeJBpD"
      },
      "source": [
        "#Import Packages\n",
        "import os\n",
        "import sys\n",
        "import argparse\n",
        "import numpy as np\n",
        "import pandas as pd\n",
        "from Bio import SeqIO\n",
        "from datetime import datetime\n",
        "import re\n",
        "# import torch"
      ],
      "execution_count": null,
      "outputs": []
    },
    {
      "cell_type": "markdown",
      "metadata": {
        "id": "OQn5CIC2aBoJ"
      },
      "source": [
        "##**Constants** and **Values**"
      ]
    },
    {
      "cell_type": "markdown",
      "metadata": {
        "id": "zcdAxMpVpMSK"
      },
      "source": [
        "Constants"
      ]
    },
    {
      "cell_type": "code",
      "metadata": {
        "id": "qwS4DMYSTRH-"
      },
      "source": [
        "dnaStringPattern = \"^[ACGT]+$\"\n",
        "stringExtractionPattern = '[ACTG]+'"
      ],
      "execution_count": null,
      "outputs": []
    },
    {
      "cell_type": "markdown",
      "metadata": {
        "id": "uSQBcUhKpQh_"
      },
      "source": [
        "User Imputs using CMD"
      ]
    },
    {
      "cell_type": "code",
      "metadata": {
        "id": "pQZBdmxHJaIB"
      },
      "source": [
        "inputFile = \"/content/drive/Shareddrives/FYP/Databases/PLSdb-plasmid.fasta\"\n",
        "miniInputFile = \"/content/drive/Shareddrives/FYP/Results/DNAML-plasmid-100.fasta\"\n",
        "minLength = 1000\n",
        "verbose = True\n",
        "lengths = [1000,10000,100000,500000]"
      ],
      "execution_count": null,
      "outputs": []
    },
    {
      "cell_type": "markdown",
      "metadata": {
        "id": "-_ptRsedpuUU"
      },
      "source": [
        "Column Names"
      ]
    },
    {
      "cell_type": "code",
      "metadata": {
        "id": "tiVbRoxKH2CP"
      },
      "source": [
        "contigId = \"contig_id\"\n",
        "contigLength = \"contig_length\"\n",
        "contigName = \"contig_name\"\n",
        "contigSequence = \"contig_sequence\"\n",
        "regexLists = \"regex_list\"\n",
        "regexListCount = 'regex_list_count'"
      ],
      "execution_count": null,
      "outputs": []
    },
    {
      "cell_type": "markdown",
      "metadata": {
        "id": "VN3XBgRWCl-i"
      },
      "source": [
        "Global Variables"
      ]
    },
    {
      "cell_type": "code",
      "metadata": {
        "id": "pqcOCAPDVier"
      },
      "source": [
        "global seqCount\n",
        "seqCount = 0\n",
        "\n",
        "global df\n",
        "\n",
        "global totalLength"
      ],
      "execution_count": null,
      "outputs": []
    },
    {
      "cell_type": "markdown",
      "metadata": {
        "id": "_oveMIOMaKF3"
      },
      "source": [
        "##**Supporting Methods**"
      ]
    },
    {
      "cell_type": "code",
      "metadata": {
        "id": "jmtdiOz9VZuJ"
      },
      "source": [
        "def countSequencesInFile():\n",
        "  global seqCount\n",
        "  seqCount +=1\n",
        "  return True"
      ],
      "execution_count": null,
      "outputs": []
    },
    {
      "cell_type": "code",
      "metadata": {
        "id": "XIzJS83iaRdN"
      },
      "source": [
        "def PrintToConsole(mes, arg1 = \"\", arg2 = \"\", arg3 = \"\"):\n",
        "  if(verbose):\n",
        "    print(mes, arg1, arg2, arg3)"
      ],
      "execution_count": null,
      "outputs": []
    },
    {
      "cell_type": "code",
      "metadata": {
        "id": "tAfK1XDgDeF4"
      },
      "source": [
        "def removeUnwantedSeqs(row):\n",
        "  global df, totalLength\n",
        "  seqs = np.array(row[regexLists])\n",
        "  newFrame = pd.DataFrame([\n",
        "      {contigId: i + totalLength, contigName: row[contigName] + \"_\" + str(i), contigLength: len(rec), contigSequence: str(rec[0:])}\n",
        "      for i, rec in enumerate(seqs)\n",
        "  ])\n",
        "  frames = [df, newFrame]\n",
        "  df = pd.concat(frames)\n",
        "  totalLength = len(df)"
      ],
      "execution_count": null,
      "outputs": []
    },
    {
      "cell_type": "markdown",
      "metadata": {
        "id": "rBp7piUUb6G_"
      },
      "source": [
        "##**Implementation**"
      ]
    },
    {
      "cell_type": "code",
      "metadata": {
        "id": "rPYgqrDbx7ON"
      },
      "source": [
        "# TODO:// When there is a error. Split the sequence left and right\n",
        "\n",
        "def parse_seqs(inputfile, min_length = 1000):\n",
        "\n",
        "    PrintToConsole(\"Importing sequences\")\n",
        "    startTime = datetime.now()\n",
        "\n",
        "    initialSequences = SeqIO.parse(inputfile, 'fasta')\n",
        "\n",
        "    PrintToConsole(\"Reading Time \\t\", datetime.now() - startTime)\n",
        "    startTime = datetime.now()\n",
        "    \n",
        "    #TODO:// Can create as a numpy array\n",
        "    seqs = [rec for rec in initialSequences] # NOTE:// np.str got 53 seconds, normal methods 41\n",
        "\n",
        "    PrintToConsole(\"Time to initial for loop \",datetime.now() - startTime)\n",
        "    startTime = datetime.now()\n",
        "\n",
        "    PrintToConsole(\"Imported \", len(seqs), \" sequences\")\n",
        "\n",
        "    contig_info = pd.DataFrame([\n",
        "        {contigId: i, contigName: rec.id, contigLength: len(rec.seq), contigSequence: str(rec.seq[0:])}\n",
        "        for i, rec in enumerate(seqs)\n",
        "    ])\n",
        "\n",
        "    PrintToConsole(\" Time to create the dataframe \", datetime.now() - startTime)\n",
        "    startTime = datetime.now()\n",
        "\n",
        "    PrintToConsole(\"Total length sequences \", len(contig_info))\n",
        "    \n",
        "    return seqs, contig_info"
      ],
      "execution_count": null,
      "outputs": []
    },
    {
      "cell_type": "code",
      "metadata": {
        "id": "13ahZullJwl6",
        "colab": {
          "base_uri": "https://localhost:8080/"
        },
        "outputId": "3585b7c7-ca3a-4c9f-8065-fa9c9be089e7"
      },
      "source": [
        "startTime = datetime.now()\n",
        "seqs, contig_info = parse_seqs(inputFile, min_length=minLength)"
      ],
      "execution_count": null,
      "outputs": [
        {
          "output_type": "stream",
          "text": [
            "Importing sequences   \n",
            "Reading Time \t 0:00:00.137985  \n",
            "Time to initial for loop  0:00:52.941340  \n",
            "Imported  27939  sequences \n",
            " Time to create the dataframe  0:00:01.891403  \n",
            "Total length sequences  27939  \n"
          ],
          "name": "stdout"
        }
      ]
    },
    {
      "cell_type": "code",
      "metadata": {
        "id": "hUZMPTJF9_nS"
      },
      "source": [
        "df = contig_info.copy()\n",
        "df\n",
        "totalLength = len(df)"
      ],
      "execution_count": null,
      "outputs": []
    },
    {
      "cell_type": "code",
      "metadata": {
        "id": "leo_KZvSbkw3",
        "colab": {
          "base_uri": "https://localhost:8080/",
          "height": 417
        },
        "outputId": "2e124b07-0de7-4e8a-c90a-1e705baf3190"
      },
      "source": [
        "contig_copy = contig_info.copy()\n",
        "\n",
        "startTime = datetime.now()\n",
        "contig_copy[regexLists] = contig_info.apply(lambda row: re.findall(stringExtractionPattern,row[contigSequence]), axis = 1)\n",
        "print(datetime.now() - startTime)\n",
        "\n",
        "contig_copy[regexListCount] = contig_copy[regexLists].apply(lambda row: len(row))\n",
        "\n",
        "df = contig_copy.loc[contig_copy[regexLists].apply(lambda row: len(row) == 1)]\n",
        "\n",
        "contig_copy_with_lengths = contig_copy.loc[contig_copy[regexLists].apply(lambda row: len(row) > 1)]\n",
        "contig_copy_with_lengths"
      ],
      "execution_count": null,
      "outputs": [
        {
          "output_type": "stream",
          "text": [
            "0:00:08.137010\n"
          ],
          "name": "stdout"
        },
        {
          "output_type": "execute_result",
          "data": {
            "text/html": [
              "<div>\n",
              "<style scoped>\n",
              "    .dataframe tbody tr th:only-of-type {\n",
              "        vertical-align: middle;\n",
              "    }\n",
              "\n",
              "    .dataframe tbody tr th {\n",
              "        vertical-align: top;\n",
              "    }\n",
              "\n",
              "    .dataframe thead th {\n",
              "        text-align: right;\n",
              "    }\n",
              "</style>\n",
              "<table border=\"1\" class=\"dataframe\">\n",
              "  <thead>\n",
              "    <tr style=\"text-align: right;\">\n",
              "      <th></th>\n",
              "      <th>contig_id</th>\n",
              "      <th>contig_name</th>\n",
              "      <th>contig_length</th>\n",
              "      <th>contig_sequence</th>\n",
              "      <th>regex_list</th>\n",
              "      <th>regex_list_count</th>\n",
              "    </tr>\n",
              "  </thead>\n",
              "  <tbody>\n",
              "    <tr>\n",
              "      <th>21</th>\n",
              "      <td>21</td>\n",
              "      <td>NZ_AF304384.1</td>\n",
              "      <td>8135</td>\n",
              "      <td>GTCGACAGTCCATGCTTCGAGTTGTTGCTGGAATTGTTGCGCTTGA...</td>\n",
              "      <td>[GTCGACAGTCCATGCTTCGAGTTGTTGCTGGAATTGTTGCGCTTG...</td>\n",
              "      <td>8</td>\n",
              "    </tr>\n",
              "    <tr>\n",
              "      <th>65</th>\n",
              "      <td>65</td>\n",
              "      <td>NZ_CP013044.1</td>\n",
              "      <td>42209</td>\n",
              "      <td>TATATCAAAGTTGAAATAATGGGGATAAAATAAAAGTCTAAAAAGA...</td>\n",
              "      <td>[TATATCAAAGTTGAAATAATGGGGATAAAATAAAAGTCTAAAAAG...</td>\n",
              "      <td>2</td>\n",
              "    </tr>\n",
              "    <tr>\n",
              "      <th>69</th>\n",
              "      <td>69</td>\n",
              "      <td>NC_022355.1</td>\n",
              "      <td>55127</td>\n",
              "      <td>TTGACGGAAAAAGGTAAAAAAAACTCATTGATAAGATTAGCGGTCA...</td>\n",
              "      <td>[TTGACGGAAAAAGGTAAAAAAAACTCATTGATAAGATTAGCGGTC...</td>\n",
              "      <td>2</td>\n",
              "    </tr>\n",
              "    <tr>\n",
              "      <th>134</th>\n",
              "      <td>134</td>\n",
              "      <td>NZ_CP024891.1</td>\n",
              "      <td>90897</td>\n",
              "      <td>CGGTGAACGTCCCCGCCGCCCGTGCCTGGGACAGCGCGGTCGACCC...</td>\n",
              "      <td>[CGGTGAACGTCCCCGCCGCCCGTGCCTGGGACAGCGCGGTCGACC...</td>\n",
              "      <td>2</td>\n",
              "    </tr>\n",
              "    <tr>\n",
              "      <th>491</th>\n",
              "      <td>491</td>\n",
              "      <td>MF554637.1</td>\n",
              "      <td>116894</td>\n",
              "      <td>GTGACCGGCGAGCAGAGCCTGCGCATGCACATGTCTCTGCATCCTT...</td>\n",
              "      <td>[GTGACCGGCGAGCAGAGCCTGCGCATGCACATGTCTCTGCATCCT...</td>\n",
              "      <td>3</td>\n",
              "    </tr>\n",
              "    <tr>\n",
              "      <th>...</th>\n",
              "      <td>...</td>\n",
              "      <td>...</td>\n",
              "      <td>...</td>\n",
              "      <td>...</td>\n",
              "      <td>...</td>\n",
              "      <td>...</td>\n",
              "    </tr>\n",
              "    <tr>\n",
              "      <th>27756</th>\n",
              "      <td>27756</td>\n",
              "      <td>NZ_KX009059.1</td>\n",
              "      <td>130386</td>\n",
              "      <td>AACTACATCGGCCTTCAAAGGTTGGTCGAATAAATGGTGCAAACCA...</td>\n",
              "      <td>[AACTACATCGGCCTTCAAAGGTTGGTCGAATAAATGGTGCAAACC...</td>\n",
              "      <td>20</td>\n",
              "    </tr>\n",
              "    <tr>\n",
              "      <th>27779</th>\n",
              "      <td>27779</td>\n",
              "      <td>NZ_KX149096.1</td>\n",
              "      <td>40312</td>\n",
              "      <td>TCACGGTTTCATCTAATTTAGAACATCAACTTTTAAAATCGGGCTA...</td>\n",
              "      <td>[TCACGGTTTCATCTAATTTAGAACATCAACTTTTAAAATCGGGCT...</td>\n",
              "      <td>4</td>\n",
              "    </tr>\n",
              "    <tr>\n",
              "      <th>27790</th>\n",
              "      <td>27790</td>\n",
              "      <td>NZ_KX086582.1</td>\n",
              "      <td>38025</td>\n",
              "      <td>GAAAGATTTTGAATTTTTTTTAGGAATGGTGGTAAAGATATTTCTT...</td>\n",
              "      <td>[GAAAGATTTTGAATTTTTTTTAGGAATGGTGGTAAAGATATTTCT...</td>\n",
              "      <td>2</td>\n",
              "    </tr>\n",
              "    <tr>\n",
              "      <th>27879</th>\n",
              "      <td>27879</td>\n",
              "      <td>NC_022651.1</td>\n",
              "      <td>110040</td>\n",
              "      <td>GTAAGCGTCAACGGAGCACCGTATTGACGCTTATTTATTGGTGAGT...</td>\n",
              "      <td>[GTAAGCGTCAACGGAGCACCGTATTGACGCTTATTTATTGGTGAG...</td>\n",
              "      <td>3</td>\n",
              "    </tr>\n",
              "    <tr>\n",
              "      <th>27938</th>\n",
              "      <td>27938</td>\n",
              "      <td>LR699074.1</td>\n",
              "      <td>119529</td>\n",
              "      <td>GGCGATGTTCGGAGCCGACGATCTGTCGGCTCCCCAAACGGCCCCG...</td>\n",
              "      <td>[GGCGATGTTCGGAGCCGACGATCTGTCGGCTCCCCAAACGGCCCC...</td>\n",
              "      <td>4</td>\n",
              "    </tr>\n",
              "  </tbody>\n",
              "</table>\n",
              "<p>470 rows × 6 columns</p>\n",
              "</div>"
            ],
            "text/plain": [
              "       contig_id  ... regex_list_count\n",
              "21            21  ...                8\n",
              "65            65  ...                2\n",
              "69            69  ...                2\n",
              "134          134  ...                2\n",
              "491          491  ...                3\n",
              "...          ...  ...              ...\n",
              "27756      27756  ...               20\n",
              "27779      27779  ...                4\n",
              "27790      27790  ...                2\n",
              "27879      27879  ...                3\n",
              "27938      27938  ...                4\n",
              "\n",
              "[470 rows x 6 columns]"
            ]
          },
          "metadata": {
            "tags": []
          },
          "execution_count": 14
        }
      ]
    },
    {
      "cell_type": "code",
      "metadata": {
        "colab": {
          "base_uri": "https://localhost:8080/"
        },
        "id": "vkWPKkSHG49T",
        "outputId": "8cf0f14e-6ac3-4e76-ad2e-b1c04848605f"
      },
      "source": [
        "expectedLength = len(contig_info) - len(contig_copy_with_lengths) + np.sum(contig_copy_with_lengths[regexListCount])\n",
        "expectedLength"
      ],
      "execution_count": null,
      "outputs": [
        {
          "output_type": "execute_result",
          "data": {
            "text/plain": [
              "37501"
            ]
          },
          "metadata": {
            "tags": []
          },
          "execution_count": 15
        }
      ]
    },
    {
      "cell_type": "code",
      "metadata": {
        "id": "0aeBfg1a-a8P",
        "colab": {
          "base_uri": "https://localhost:8080/"
        },
        "outputId": "09eb9d5e-bdd5-4b0f-d276-0ec48d3ef69f"
      },
      "source": [
        "startTime = datetime.now()\n",
        "contig_copy_with_lengths.apply(lambda row: removeUnwantedSeqs(row), axis = 1)\n",
        "print(datetime.now() - startTime)"
      ],
      "execution_count": null,
      "outputs": [
        {
          "output_type": "stream",
          "text": [
            "0:00:08.858514\n"
          ],
          "name": "stdout"
        }
      ]
    },
    {
      "cell_type": "code",
      "metadata": {
        "id": "3rv4hPl1-asK",
        "colab": {
          "base_uri": "https://localhost:8080/",
          "height": 417
        },
        "outputId": "08425eac-82ab-423f-c6bb-37062d57f446"
      },
      "source": [
        "print(totalLength)\n",
        "df"
      ],
      "execution_count": null,
      "outputs": [
        {
          "output_type": "stream",
          "text": [
            "37501\n"
          ],
          "name": "stdout"
        },
        {
          "output_type": "execute_result",
          "data": {
            "text/html": [
              "<div>\n",
              "<style scoped>\n",
              "    .dataframe tbody tr th:only-of-type {\n",
              "        vertical-align: middle;\n",
              "    }\n",
              "\n",
              "    .dataframe tbody tr th {\n",
              "        vertical-align: top;\n",
              "    }\n",
              "\n",
              "    .dataframe thead th {\n",
              "        text-align: right;\n",
              "    }\n",
              "</style>\n",
              "<table border=\"1\" class=\"dataframe\">\n",
              "  <thead>\n",
              "    <tr style=\"text-align: right;\">\n",
              "      <th></th>\n",
              "      <th>contig_id</th>\n",
              "      <th>contig_name</th>\n",
              "      <th>contig_length</th>\n",
              "      <th>contig_sequence</th>\n",
              "      <th>regex_list</th>\n",
              "      <th>regex_list_count</th>\n",
              "    </tr>\n",
              "  </thead>\n",
              "  <tbody>\n",
              "    <tr>\n",
              "      <th>0</th>\n",
              "      <td>0</td>\n",
              "      <td>NZ_CP045500.1</td>\n",
              "      <td>42856</td>\n",
              "      <td>GCCGCCGGAACTGCGCTGGCGCGAGTGGATGGGTCGTGTCGAAGCG...</td>\n",
              "      <td>[GCCGCCGGAACTGCGCTGGCGCGAGTGGATGGGTCGTGTCGAAGC...</td>\n",
              "      <td>1.0</td>\n",
              "    </tr>\n",
              "    <tr>\n",
              "      <th>1</th>\n",
              "      <td>1</td>\n",
              "      <td>NZ_CP045499.1</td>\n",
              "      <td>389300</td>\n",
              "      <td>TTGGAGAACACGGGGCTCTTTGAGAGGCGCCAGCCAGGGCCCGTTG...</td>\n",
              "      <td>[TTGGAGAACACGGGGCTCTTTGAGAGGCGCCAGCCAGGGCCCGTT...</td>\n",
              "      <td>1.0</td>\n",
              "    </tr>\n",
              "    <tr>\n",
              "      <th>2</th>\n",
              "      <td>2</td>\n",
              "      <td>NZ_CP045498.1</td>\n",
              "      <td>53938</td>\n",
              "      <td>TCGCATGCCGCATGCCGAGCTCGTCATGAGCGCGTTTGAGTTGCGC...</td>\n",
              "      <td>[TCGCATGCCGCATGCCGAGCTCGTCATGAGCGCGTTTGAGTTGCG...</td>\n",
              "      <td>1.0</td>\n",
              "    </tr>\n",
              "    <tr>\n",
              "      <th>3</th>\n",
              "      <td>3</td>\n",
              "      <td>NZ_CP045497.1</td>\n",
              "      <td>305508</td>\n",
              "      <td>ACGTACGGGCCCGCGACGAAATCGCCGACTTGCAATTCGATGCGGA...</td>\n",
              "      <td>[ACGTACGGGCCCGCGACGAAATCGCCGACTTGCAATTCGATGCGG...</td>\n",
              "      <td>1.0</td>\n",
              "    </tr>\n",
              "    <tr>\n",
              "      <th>4</th>\n",
              "      <td>4</td>\n",
              "      <td>NZ_MT560071.1</td>\n",
              "      <td>2516</td>\n",
              "      <td>TCAAGACGATAGTTACCGGATAAGGCGCAGCAGTCGGACTGAACGG...</td>\n",
              "      <td>[TCAAGACGATAGTTACCGGATAAGGCGCAGCAGTCGGACTGAACG...</td>\n",
              "      <td>1.0</td>\n",
              "    </tr>\n",
              "    <tr>\n",
              "      <th>...</th>\n",
              "      <td>...</td>\n",
              "      <td>...</td>\n",
              "      <td>...</td>\n",
              "      <td>...</td>\n",
              "      <td>...</td>\n",
              "      <td>...</td>\n",
              "    </tr>\n",
              "    <tr>\n",
              "      <th>2</th>\n",
              "      <td>37496</td>\n",
              "      <td>NC_022651.1_2</td>\n",
              "      <td>11048</td>\n",
              "      <td>CGCCGATAGCGATGATGTGAACCCCGTCATCCTCCGGTGCCCTGCC...</td>\n",
              "      <td>NaN</td>\n",
              "      <td>NaN</td>\n",
              "    </tr>\n",
              "    <tr>\n",
              "      <th>0</th>\n",
              "      <td>37497</td>\n",
              "      <td>LR699074.1_0</td>\n",
              "      <td>31299</td>\n",
              "      <td>GGCGATGTTCGGAGCCGACGATCTGTCGGCTCCCCAAACGGCCCCG...</td>\n",
              "      <td>NaN</td>\n",
              "      <td>NaN</td>\n",
              "    </tr>\n",
              "    <tr>\n",
              "      <th>1</th>\n",
              "      <td>37498</td>\n",
              "      <td>LR699074.1_1</td>\n",
              "      <td>1039</td>\n",
              "      <td>GGCGAGAAGGGCGAGCACAAGCTCATCTGGTCGCGCTGATCGACCC...</td>\n",
              "      <td>NaN</td>\n",
              "      <td>NaN</td>\n",
              "    </tr>\n",
              "    <tr>\n",
              "      <th>2</th>\n",
              "      <td>37499</td>\n",
              "      <td>LR699074.1_2</td>\n",
              "      <td>13411</td>\n",
              "      <td>CTCTCGCGAGTAGTAGTTCGCCATCCCAGTACCGCGTCGCTGCAAA...</td>\n",
              "      <td>NaN</td>\n",
              "      <td>NaN</td>\n",
              "    </tr>\n",
              "    <tr>\n",
              "      <th>3</th>\n",
              "      <td>37500</td>\n",
              "      <td>LR699074.1_3</td>\n",
              "      <td>73775</td>\n",
              "      <td>CCACGCATCGACTACAGCACTGAGCGTCGAGCCGTGGGAGGTTCTT...</td>\n",
              "      <td>NaN</td>\n",
              "      <td>NaN</td>\n",
              "    </tr>\n",
              "  </tbody>\n",
              "</table>\n",
              "<p>37501 rows × 6 columns</p>\n",
              "</div>"
            ],
            "text/plain": [
              "    contig_id  ... regex_list_count\n",
              "0           0  ...              1.0\n",
              "1           1  ...              1.0\n",
              "2           2  ...              1.0\n",
              "3           3  ...              1.0\n",
              "4           4  ...              1.0\n",
              "..        ...  ...              ...\n",
              "2       37496  ...              NaN\n",
              "0       37497  ...              NaN\n",
              "1       37498  ...              NaN\n",
              "2       37499  ...              NaN\n",
              "3       37500  ...              NaN\n",
              "\n",
              "[37501 rows x 6 columns]"
            ]
          },
          "metadata": {
            "tags": []
          },
          "execution_count": 17
        }
      ]
    },
    {
      "cell_type": "code",
      "metadata": {
        "colab": {
          "base_uri": "https://localhost:8080/",
          "height": 435
        },
        "id": "ZhU4I--pJ4Rm",
        "outputId": "df63074e-10b4-491f-c63e-ed29571427ca"
      },
      "source": [
        "contig_info_df = df.copy()\n",
        "\n",
        "startTime = datetime.now()\n",
        "filtered_df = contig_info_df.loc[contig_info_df.apply(lambda row: row[contigLength] > minLength, axis = 1)]\n",
        "PrintToConsole(\" minimum length time \", datetime.now() - startTime)\n",
        "\n",
        "PrintToConsole(\"Filtered length sequences \", len(filtered_df))\n",
        "df = filtered_df[[contigId, contigLength, contigName, contigSequence]]\n",
        "df"
      ],
      "execution_count": null,
      "outputs": [
        {
          "output_type": "stream",
          "text": [
            " minimum length time  0:00:00.265842  \n",
            "Filtered length sequences  29354  \n"
          ],
          "name": "stdout"
        },
        {
          "output_type": "execute_result",
          "data": {
            "text/html": [
              "<div>\n",
              "<style scoped>\n",
              "    .dataframe tbody tr th:only-of-type {\n",
              "        vertical-align: middle;\n",
              "    }\n",
              "\n",
              "    .dataframe tbody tr th {\n",
              "        vertical-align: top;\n",
              "    }\n",
              "\n",
              "    .dataframe thead th {\n",
              "        text-align: right;\n",
              "    }\n",
              "</style>\n",
              "<table border=\"1\" class=\"dataframe\">\n",
              "  <thead>\n",
              "    <tr style=\"text-align: right;\">\n",
              "      <th></th>\n",
              "      <th>contig_id</th>\n",
              "      <th>contig_length</th>\n",
              "      <th>contig_name</th>\n",
              "      <th>contig_sequence</th>\n",
              "    </tr>\n",
              "  </thead>\n",
              "  <tbody>\n",
              "    <tr>\n",
              "      <th>0</th>\n",
              "      <td>0</td>\n",
              "      <td>42856</td>\n",
              "      <td>NZ_CP045500.1</td>\n",
              "      <td>GCCGCCGGAACTGCGCTGGCGCGAGTGGATGGGTCGTGTCGAAGCG...</td>\n",
              "    </tr>\n",
              "    <tr>\n",
              "      <th>1</th>\n",
              "      <td>1</td>\n",
              "      <td>389300</td>\n",
              "      <td>NZ_CP045499.1</td>\n",
              "      <td>TTGGAGAACACGGGGCTCTTTGAGAGGCGCCAGCCAGGGCCCGTTG...</td>\n",
              "    </tr>\n",
              "    <tr>\n",
              "      <th>2</th>\n",
              "      <td>2</td>\n",
              "      <td>53938</td>\n",
              "      <td>NZ_CP045498.1</td>\n",
              "      <td>TCGCATGCCGCATGCCGAGCTCGTCATGAGCGCGTTTGAGTTGCGC...</td>\n",
              "    </tr>\n",
              "    <tr>\n",
              "      <th>3</th>\n",
              "      <td>3</td>\n",
              "      <td>305508</td>\n",
              "      <td>NZ_CP045497.1</td>\n",
              "      <td>ACGTACGGGCCCGCGACGAAATCGCCGACTTGCAATTCGATGCGGA...</td>\n",
              "    </tr>\n",
              "    <tr>\n",
              "      <th>4</th>\n",
              "      <td>4</td>\n",
              "      <td>2516</td>\n",
              "      <td>NZ_MT560071.1</td>\n",
              "      <td>TCAAGACGATAGTTACCGGATAAGGCGCAGCAGTCGGACTGAACGG...</td>\n",
              "    </tr>\n",
              "    <tr>\n",
              "      <th>...</th>\n",
              "      <td>...</td>\n",
              "      <td>...</td>\n",
              "      <td>...</td>\n",
              "      <td>...</td>\n",
              "    </tr>\n",
              "    <tr>\n",
              "      <th>2</th>\n",
              "      <td>37496</td>\n",
              "      <td>11048</td>\n",
              "      <td>NC_022651.1_2</td>\n",
              "      <td>CGCCGATAGCGATGATGTGAACCCCGTCATCCTCCGGTGCCCTGCC...</td>\n",
              "    </tr>\n",
              "    <tr>\n",
              "      <th>0</th>\n",
              "      <td>37497</td>\n",
              "      <td>31299</td>\n",
              "      <td>LR699074.1_0</td>\n",
              "      <td>GGCGATGTTCGGAGCCGACGATCTGTCGGCTCCCCAAACGGCCCCG...</td>\n",
              "    </tr>\n",
              "    <tr>\n",
              "      <th>1</th>\n",
              "      <td>37498</td>\n",
              "      <td>1039</td>\n",
              "      <td>LR699074.1_1</td>\n",
              "      <td>GGCGAGAAGGGCGAGCACAAGCTCATCTGGTCGCGCTGATCGACCC...</td>\n",
              "    </tr>\n",
              "    <tr>\n",
              "      <th>2</th>\n",
              "      <td>37499</td>\n",
              "      <td>13411</td>\n",
              "      <td>LR699074.1_2</td>\n",
              "      <td>CTCTCGCGAGTAGTAGTTCGCCATCCCAGTACCGCGTCGCTGCAAA...</td>\n",
              "    </tr>\n",
              "    <tr>\n",
              "      <th>3</th>\n",
              "      <td>37500</td>\n",
              "      <td>73775</td>\n",
              "      <td>LR699074.1_3</td>\n",
              "      <td>CCACGCATCGACTACAGCACTGAGCGTCGAGCCGTGGGAGGTTCTT...</td>\n",
              "    </tr>\n",
              "  </tbody>\n",
              "</table>\n",
              "<p>29354 rows × 4 columns</p>\n",
              "</div>"
            ],
            "text/plain": [
              "    contig_id  ...                                    contig_sequence\n",
              "0           0  ...  GCCGCCGGAACTGCGCTGGCGCGAGTGGATGGGTCGTGTCGAAGCG...\n",
              "1           1  ...  TTGGAGAACACGGGGCTCTTTGAGAGGCGCCAGCCAGGGCCCGTTG...\n",
              "2           2  ...  TCGCATGCCGCATGCCGAGCTCGTCATGAGCGCGTTTGAGTTGCGC...\n",
              "3           3  ...  ACGTACGGGCCCGCGACGAAATCGCCGACTTGCAATTCGATGCGGA...\n",
              "4           4  ...  TCAAGACGATAGTTACCGGATAAGGCGCAGCAGTCGGACTGAACGG...\n",
              "..        ...  ...                                                ...\n",
              "2       37496  ...  CGCCGATAGCGATGATGTGAACCCCGTCATCCTCCGGTGCCCTGCC...\n",
              "0       37497  ...  GGCGATGTTCGGAGCCGACGATCTGTCGGCTCCCCAAACGGCCCCG...\n",
              "1       37498  ...  GGCGAGAAGGGCGAGCACAAGCTCATCTGGTCGCGCTGATCGACCC...\n",
              "2       37499  ...  CTCTCGCGAGTAGTAGTTCGCCATCCCAGTACCGCGTCGCTGCAAA...\n",
              "3       37500  ...  CCACGCATCGACTACAGCACTGAGCGTCGAGCCGTGGGAGGTTCTT...\n",
              "\n",
              "[29354 rows x 4 columns]"
            ]
          },
          "metadata": {
            "tags": []
          },
          "execution_count": 18
        }
      ]
    },
    {
      "cell_type": "code",
      "metadata": {
        "id": "3_XU_xj0Uj7J"
      },
      "source": [
        ""
      ],
      "execution_count": null,
      "outputs": []
    },
    {
      "cell_type": "code",
      "metadata": {
        "id": "UKmjgMDUrpgV"
      },
      "source": [
        ""
      ],
      "execution_count": null,
      "outputs": []
    },
    {
      "cell_type": "markdown",
      "metadata": {
        "id": "54T1KW15EhBM"
      },
      "source": [
        "#Unwanted"
      ]
    },
    {
      "cell_type": "code",
      "metadata": {
        "id": "V1AbZT4zEeJJ"
      },
      "source": [
        ""
      ],
      "execution_count": null,
      "outputs": []
    },
    {
      "cell_type": "code",
      "metadata": {
        "id": "0SuNhV39XY1O"
      },
      "source": [
        "# def parse_seqs(inputfile, min_length = 1000):\n",
        "#     \"\"\"Return a list of the seqs and a pandas dataframe with metadata.\"\"\"\n",
        "#     if verbose:\n",
        "#       print(\"Importing sequences\")\n",
        "#     startTime = datetime.now()\n",
        "#     initialSequences = SeqIO.parse(inputfile, 'fasta')\n",
        "#     print(\"Reading Time \\t\", datetime.now() - startTime)\n",
        "#     #TODO:// Can create as a numpy array\n",
        "#     seqs = [rec for rec in initialSequences if countSequencesInFile() and len(rec.seq) >= min_length and re.match(dnaStringPattern, str(rec.seq[0:])) != None] # NOTE:// np.str got 53 seconds, normal methods 41\n",
        "#     if verbose:\n",
        "#       print(\"Imported \", len(seqs), \" sequences\")\n",
        "#     contig_info = pd.DataFrame([\n",
        "#         {'contig_id': i, 'contig_name': rec.id, 'contig_length': len(rec.seq)}\n",
        "#         for i, rec in enumerate(seqs)\n",
        "#     ])\n",
        "#     startTime = datetime.now()\n",
        "#     cat = SeqIO.to_dict(initialSequences)\n",
        "#     print(len(cat))\n",
        "#     print(cat)\n",
        "#     print(\"Sequence Count\", seqCount)\n",
        "#     # validSequenceRatio = len(contig_info) / len(SeqIO.to_dict(initialSequences))\n",
        "#     print(\"Precentage Time \\t\", datetime.now() - startTime)\n",
        "#     #TOCHECK:// Valid row ratio\n",
        "#     # print(validSequenceRatio)\n",
        "#     return seqs, contig_info"
      ],
      "execution_count": null,
      "outputs": []
    },
    {
      "cell_type": "code",
      "metadata": {
        "id": "xqQGj4dlXbJo"
      },
      "source": [
        "# def parse_seqs(inputfile, min_length = 1000):\n",
        "#     \"\"\"Return a list of the seqs and a pandas dataframe with metadata.\"\"\"\n",
        "#     if verbose:\n",
        "#       print(\"Importing sequences\")\n",
        "#     startTime = datetime.now()\n",
        "#     initialSequences = SeqIO.parse(inputfile, 'fasta')\n",
        "#     print(\"Reading Time \\t\", datetime.now() - startTime)\n",
        "#     #TODO:// Can create as a numpy array\n",
        "#     seqs = [rec for rec in initialSequences] # NOTE:// np.str got 53 seconds, normal methods 41\n",
        "#     print(datetime.now() - startTime)\n",
        "#     startTime = datetime.now()\n",
        "#     if verbose:\n",
        "#       print(\"Imported \", len(seqs), \" sequences\")\n",
        "#     contig_info = pd.DataFrame([\n",
        "#         {'contig_id': i, 'contig_name': rec.id, 'contig_length': len(rec.seq)}\n",
        "#         for i, rec in enumerate(seqs)\n",
        "#     ])\n",
        "#     print(datetime.now() - startTime)\n",
        "#     print(\"initial dataframe\\n\")\n",
        "#     print(contig_info)\n",
        "#     startTime = datetime.now()\n",
        "#     print(\"Total length sequences \", len(contig_info))\n",
        "#     # seq_tensor = torch.from_numpy(contig_info.to_numpy().astype(str))\n",
        "#     filtered_contig_info = contig_info.loc[contig_info.apply(lambda row: row['contig_length'] > minLength, axis = 1)]\n",
        "#     print(filtered_contig_info)\n",
        "#     print(len(filtered_contig_info))\n",
        "#     print(datetime.now() - startTime)\n",
        "#     print(filtered_contig_info['contig_length'])\n",
        "#     return seqs, contig_info"
      ],
      "execution_count": null,
      "outputs": []
    },
    {
      "cell_type": "code",
      "metadata": {
        "id": "3FRfjlzzXbKk"
      },
      "source": [
        ""
      ],
      "execution_count": null,
      "outputs": []
    }
  ]
}