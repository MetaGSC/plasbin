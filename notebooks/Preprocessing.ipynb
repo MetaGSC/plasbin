{
  "nbformat": 4,
  "nbformat_minor": 0,
  "metadata": {
    "colab": {
      "name": "Preprocessing.ipynb",
      "provenance": [],
      "collapsed_sections": []
    },
    "kernelspec": {
      "display_name": "Python 3",
      "name": "python3"
    },
    "language_info": {
      "name": "python"
    },
    "accelerator": "GPU"
  },
  "cells": [
    {
      "cell_type": "markdown",
      "metadata": {
        "id": "5sRUbW7kFf9b"
      },
      "source": [
        "## TODO\n",
        "\n",
        "\n",
        "\n",
        "*   Do without Global\n",
        "\n",
        "*   Reduce the time in Initial for loop (seqs) \n",
        "*   Write the dataframe to file\n",
        "\n",
        "\n",
        "*   What to do when start_index + frag_len > total_seq_len\n",
        "\n",
        "\n",
        "*   Introduce a unique column for Dataframe\n",
        "\n",
        "\n",
        "*   Change getSequence function to return a pd.Series\n",
        "\n",
        "\n",
        "\n",
        "\n",
        "\n",
        "\n",
        "\n"
      ]
    },
    {
      "cell_type": "markdown",
      "metadata": {
        "id": "ZdylGF6rZNXd"
      },
      "source": [
        "##Install **Packages** and mount **Drive**"
      ]
    },
    {
      "cell_type": "code",
      "metadata": {
        "id": "4jT7AvBsGgID",
        "colab": {
          "base_uri": "https://localhost:8080/"
        },
        "outputId": "ad7d71d2-f303-4c12-ab63-34744d31f153"
      },
      "source": [
        "!pip install biopython\n",
        "#!pip install numpy torch==1.7.0+cpu torchvision==0.8.1+cpu torchaudio==0.7.0 -f https://download.pytorch.org/whl/torch_stable.html\n",
        "# torch.cuda.is_available()"
      ],
      "execution_count": null,
      "outputs": [
        {
          "output_type": "stream",
          "text": [
            "Requirement already satisfied: biopython in /usr/local/lib/python3.7/dist-packages (1.79)\n",
            "Requirement already satisfied: numpy in /usr/local/lib/python3.7/dist-packages (from biopython) (1.19.5)\n"
          ],
          "name": "stdout"
        }
      ]
    },
    {
      "cell_type": "code",
      "metadata": {
        "id": "BfvI58f8Q0iw",
        "colab": {
          "base_uri": "https://localhost:8080/"
        },
        "outputId": "34f0c82a-3b40-49cb-8d71-4e4c04cc0e54"
      },
      "source": [
        "from google.colab import drive\n",
        "drive.mount('/content/drive')"
      ],
      "execution_count": null,
      "outputs": [
        {
          "output_type": "stream",
          "text": [
            "Drive already mounted at /content/drive; to attempt to forcibly remount, call drive.mount(\"/content/drive\", force_remount=True).\n"
          ],
          "name": "stdout"
        }
      ]
    },
    {
      "cell_type": "markdown",
      "metadata": {
        "id": "tdNJz7FSCs62"
      },
      "source": [
        "Imports"
      ]
    },
    {
      "cell_type": "code",
      "metadata": {
        "id": "ff5ESPNeJBpD"
      },
      "source": [
        "import os\n",
        "import sys\n",
        "import re\n",
        "import argparse\n",
        "import numpy as np\n",
        "import pandas as pd\n",
        "from Bio import SeqIO\n",
        "from datetime import datetime\n",
        "from numpy.random import randint\n",
        "# import torch"
      ],
      "execution_count": null,
      "outputs": []
    },
    {
      "cell_type": "markdown",
      "metadata": {
        "id": "OQn5CIC2aBoJ"
      },
      "source": [
        "##**Constants** and **Values**"
      ]
    },
    {
      "cell_type": "markdown",
      "metadata": {
        "id": "zcdAxMpVpMSK"
      },
      "source": [
        "Constants"
      ]
    },
    {
      "cell_type": "code",
      "metadata": {
        "id": "qwS4DMYSTRH-"
      },
      "source": [
        "dnaStringPattern = \"^[ACGT]+$\"\n",
        "stringExtractionPattern = '[ACTG]+'\n",
        "maximumFragments = float(\"inf\")"
      ],
      "execution_count": null,
      "outputs": []
    },
    {
      "cell_type": "markdown",
      "metadata": {
        "id": "uSQBcUhKpQh_"
      },
      "source": [
        "User Imputs using CMD"
      ]
    },
    {
      "cell_type": "code",
      "metadata": {
        "id": "pQZBdmxHJaIB"
      },
      "source": [
        "inputFile = \"/content/drive/Shareddrives/FYP/Databases/PLSdb-plasmid.fasta\"\n",
        "miniInputFile = \"/content/drive/Shareddrives/FYP/Databases/PLSdb-plasmid-1000.fasta\"\n",
        "minLength = 1000\n",
        "verbose = True\n",
        "lengths = [1000,10000,100000,500000]\n",
        "coverage = 5\n",
        "fragmentRatio = 0.85\n",
        "\n",
        "inputFile = miniInputFile"
      ],
      "execution_count": null,
      "outputs": []
    },
    {
      "cell_type": "markdown",
      "metadata": {
        "id": "-_ptRsedpuUU"
      },
      "source": [
        "Column Names"
      ]
    },
    {
      "cell_type": "code",
      "metadata": {
        "id": "tiVbRoxKH2CP"
      },
      "source": [
        "contigId = \"contig_id\"\n",
        "contigLength = \"contig_length\"\n",
        "contigName = \"contig_name\"\n",
        "contigSequence = \"contig_sequence\"\n",
        "regexLists = \"regex_list\"\n",
        "regexListCount = 'regex_list_count'"
      ],
      "execution_count": null,
      "outputs": []
    },
    {
      "cell_type": "markdown",
      "metadata": {
        "id": "VN3XBgRWCl-i"
      },
      "source": [
        "Global Variables"
      ]
    },
    {
      "cell_type": "code",
      "metadata": {
        "id": "pqcOCAPDVier"
      },
      "source": [
        "global seqCount\n",
        "seqCount = 0\n",
        "\n",
        "global df\n",
        "\n",
        "global totalLength"
      ],
      "execution_count": null,
      "outputs": []
    },
    {
      "cell_type": "markdown",
      "metadata": {
        "id": "_oveMIOMaKF3"
      },
      "source": [
        "##**Supporting Methods**"
      ]
    },
    {
      "cell_type": "code",
      "metadata": {
        "id": "jmtdiOz9VZuJ"
      },
      "source": [
        "def countSequencesInFile():\n",
        "  global seqCount\n",
        "  seqCount +=1\n",
        "  return True"
      ],
      "execution_count": null,
      "outputs": []
    },
    {
      "cell_type": "code",
      "metadata": {
        "id": "XIzJS83iaRdN"
      },
      "source": [
        "def PrintToConsole(mes, arg1 = \"\", arg2 = \"\", arg3 = \"\"):\n",
        "  if(verbose):\n",
        "    print(mes, arg1, arg2, arg3)"
      ],
      "execution_count": null,
      "outputs": []
    },
    {
      "cell_type": "code",
      "metadata": {
        "id": "tAfK1XDgDeF4"
      },
      "source": [
        "def removeUnwantedSeqs(row):\n",
        "  global df, totalLength\n",
        "  seqs = np.array(row[regexLists])\n",
        "  newFrame = pd.DataFrame([\n",
        "      {contigId: i + totalLength, contigName: row[contigName] + \"_\" + str(i), contigLength: len(rec), contigSequence: str(rec[0:])}\n",
        "      for i, rec in enumerate(seqs)\n",
        "  ])\n",
        "  frames = [df, newFrame]\n",
        "  df = pd.concat(frames)\n",
        "  totalLength = len(df)"
      ],
      "execution_count": null,
      "outputs": []
    },
    {
      "cell_type": "code",
      "metadata": {
        "id": "s99DaX4_NApB"
      },
      "source": [
        "def getSequence(sequence, length, l):\n",
        "  if length < l:\n",
        "    startIndex = 0\n",
        "    endIndex = length\n",
        "  else:\n",
        "    #TOASK:// In Plassclass they assume circularity, We cannot do this because we divide the sequence\n",
        "    startIndex = randint(0, length - l)\n",
        "    endIndex = startIndex + l\n",
        "  return sequence[startIndex : endIndex]"
      ],
      "execution_count": null,
      "outputs": []
    },
    {
      "cell_type": "markdown",
      "metadata": {
        "id": "rBp7piUUb6G_"
      },
      "source": [
        "##**Implementation**"
      ]
    },
    {
      "cell_type": "code",
      "metadata": {
        "id": "rPYgqrDbx7ON"
      },
      "source": [
        "# TODO:// When there is a error. Split the sequence left and right\n",
        "\n",
        "def parse_seqs(inputfile, min_length = 1000):\n",
        "\n",
        "    PrintToConsole(\"Importing sequences\")\n",
        "    startTime = datetime.now()\n",
        "\n",
        "    initialSequences = SeqIO.parse(inputfile, 'fasta')\n",
        "\n",
        "    PrintToConsole(\"Reading Time \\t\", datetime.now() - startTime)\n",
        "    startTime = datetime.now()\n",
        "    \n",
        "    #TODO:// Can create as a numpy array\n",
        "    seqs = [rec for rec in initialSequences] # NOTE:// np.str got 53 seconds, normal methods 41\n",
        "\n",
        "    PrintToConsole(\"Time to initial for loop \",datetime.now() - startTime)\n",
        "    startTime = datetime.now()\n",
        "\n",
        "    PrintToConsole(\"Imported \", len(seqs), \" sequences\")\n",
        "\n",
        "    contig_info = pd.DataFrame([\n",
        "        {contigId: i, contigName: rec.id, contigLength: len(rec.seq), contigSequence: str(rec.seq[0:])}\n",
        "        for i, rec in enumerate(seqs)\n",
        "    ])\n",
        "\n",
        "    PrintToConsole(\" Time to create the dataframe \", datetime.now() - startTime)\n",
        "    startTime = datetime.now()\n",
        "\n",
        "    PrintToConsole(\"Total length sequences \", len(contig_info))\n",
        "    \n",
        "    return seqs, contig_info"
      ],
      "execution_count": null,
      "outputs": []
    },
    {
      "cell_type": "code",
      "metadata": {
        "id": "13ahZullJwl6",
        "colab": {
          "base_uri": "https://localhost:8080/"
        },
        "outputId": "f9a2a61b-5232-4cfb-dd0e-bce172429b0f"
      },
      "source": [
        "seqs, contig_info = parse_seqs(inputFile, min_length=minLength)"
      ],
      "execution_count": null,
      "outputs": [
        {
          "output_type": "stream",
          "text": [
            "Importing sequences   \n",
            "Reading Time \t 0:00:00.010763  \n",
            "Time to initial for loop  0:00:00.666158  \n",
            "Imported  1000  sequences \n",
            " Time to create the dataframe  0:00:00.062492  \n",
            "Total length sequences  1000  \n"
          ],
          "name": "stdout"
        }
      ]
    },
    {
      "cell_type": "code",
      "metadata": {
        "id": "hUZMPTJF9_nS"
      },
      "source": [
        "df = contig_info.copy()\n",
        "df\n",
        "totalLength = len(df)"
      ],
      "execution_count": null,
      "outputs": []
    },
    {
      "cell_type": "code",
      "metadata": {
        "id": "leo_KZvSbkw3",
        "colab": {
          "base_uri": "https://localhost:8080/",
          "height": 593
        },
        "outputId": "05abbceb-3467-48d5-c356-136c2280c7a6"
      },
      "source": [
        "contig_copy = contig_info.copy()\n",
        "\n",
        "startTime = datetime.now()\n",
        "contig_copy[regexLists] = contig_info.apply(lambda row: re.findall(stringExtractionPattern,row[contigSequence]), axis = 1)\n",
        "print(datetime.now() - startTime)\n",
        "\n",
        "contig_copy[regexListCount] = contig_copy[regexLists].apply(lambda row: len(row))\n",
        "\n",
        "df = contig_copy.loc[contig_copy[regexLists].apply(lambda row: len(row) == 1)]\n",
        "\n",
        "contig_copy_with_lengths = contig_copy.loc[contig_copy[regexLists].apply(lambda row: len(row) > 1)]\n",
        "contig_copy_with_lengths"
      ],
      "execution_count": null,
      "outputs": [
        {
          "output_type": "stream",
          "text": [
            "0:00:00.274333\n"
          ],
          "name": "stdout"
        },
        {
          "output_type": "execute_result",
          "data": {
            "text/html": [
              "<div>\n",
              "<style scoped>\n",
              "    .dataframe tbody tr th:only-of-type {\n",
              "        vertical-align: middle;\n",
              "    }\n",
              "\n",
              "    .dataframe tbody tr th {\n",
              "        vertical-align: top;\n",
              "    }\n",
              "\n",
              "    .dataframe thead th {\n",
              "        text-align: right;\n",
              "    }\n",
              "</style>\n",
              "<table border=\"1\" class=\"dataframe\">\n",
              "  <thead>\n",
              "    <tr style=\"text-align: right;\">\n",
              "      <th></th>\n",
              "      <th>contig_id</th>\n",
              "      <th>contig_name</th>\n",
              "      <th>contig_length</th>\n",
              "      <th>contig_sequence</th>\n",
              "      <th>regex_list</th>\n",
              "      <th>regex_list_count</th>\n",
              "    </tr>\n",
              "  </thead>\n",
              "  <tbody>\n",
              "    <tr>\n",
              "      <th>21</th>\n",
              "      <td>21</td>\n",
              "      <td>NZ_AF304384.1</td>\n",
              "      <td>8135</td>\n",
              "      <td>GTCGACAGTCCATGCTTCGAGTTGTTGCTGGAATTGTTGCGCTTGA...</td>\n",
              "      <td>[GTCGACAGTCCATGCTTCGAGTTGTTGCTGGAATTGTTGCGCTTG...</td>\n",
              "      <td>8</td>\n",
              "    </tr>\n",
              "    <tr>\n",
              "      <th>65</th>\n",
              "      <td>65</td>\n",
              "      <td>NZ_CP013044.1</td>\n",
              "      <td>42209</td>\n",
              "      <td>TATATCAAAGTTGAAATAATGGGGATAAAATAAAAGTCTAAAAAGA...</td>\n",
              "      <td>[TATATCAAAGTTGAAATAATGGGGATAAAATAAAAGTCTAAAAAG...</td>\n",
              "      <td>2</td>\n",
              "    </tr>\n",
              "    <tr>\n",
              "      <th>69</th>\n",
              "      <td>69</td>\n",
              "      <td>NC_022355.1</td>\n",
              "      <td>55127</td>\n",
              "      <td>TTGACGGAAAAAGGTAAAAAAAACTCATTGATAAGATTAGCGGTCA...</td>\n",
              "      <td>[TTGACGGAAAAAGGTAAAAAAAACTCATTGATAAGATTAGCGGTC...</td>\n",
              "      <td>2</td>\n",
              "    </tr>\n",
              "    <tr>\n",
              "      <th>134</th>\n",
              "      <td>134</td>\n",
              "      <td>NZ_CP024891.1</td>\n",
              "      <td>90897</td>\n",
              "      <td>CGGTGAACGTCCCCGCCGCCCGTGCCTGGGACAGCGCGGTCGACCC...</td>\n",
              "      <td>[CGGTGAACGTCCCCGCCGCCCGTGCCTGGGACAGCGCGGTCGACC...</td>\n",
              "      <td>2</td>\n",
              "    </tr>\n",
              "    <tr>\n",
              "      <th>491</th>\n",
              "      <td>491</td>\n",
              "      <td>MF554637.1</td>\n",
              "      <td>116894</td>\n",
              "      <td>GTGACCGGCGAGCAGAGCCTGCGCATGCACATGTCTCTGCATCCTT...</td>\n",
              "      <td>[GTGACCGGCGAGCAGAGCCTGCGCATGCACATGTCTCTGCATCCT...</td>\n",
              "      <td>3</td>\n",
              "    </tr>\n",
              "    <tr>\n",
              "      <th>512</th>\n",
              "      <td>512</td>\n",
              "      <td>NZ_KY689632.1</td>\n",
              "      <td>232345</td>\n",
              "      <td>GATTGATAGCGACGTTATGTGAATATTGAAATGAGCATTCCAAAGA...</td>\n",
              "      <td>[GATTGATAGCGACGTTATGTGAATATTGAAATGAGCATTCCAAAG...</td>\n",
              "      <td>6</td>\n",
              "    </tr>\n",
              "    <tr>\n",
              "      <th>527</th>\n",
              "      <td>527</td>\n",
              "      <td>NZ_KX858825.1</td>\n",
              "      <td>89970</td>\n",
              "      <td>GTGAATGACAATCAGATTTCCGTTCACTGGTCAGATCTACCGAAAG...</td>\n",
              "      <td>[GTGAATGACAATCAGATTTCCGTTCACTGGTCAGATCTACCGAAA...</td>\n",
              "      <td>3</td>\n",
              "    </tr>\n",
              "    <tr>\n",
              "      <th>549</th>\n",
              "      <td>549</td>\n",
              "      <td>NC_018265.1</td>\n",
              "      <td>199075</td>\n",
              "      <td>TTTTTATAGATAGAAAAAGAGATACAGCAACCTGCTGTATCTCCTT...</td>\n",
              "      <td>[TTTTTATAGATAGAAAAAGAGATACAGCAACCTGCTGTATCTCCT...</td>\n",
              "      <td>2</td>\n",
              "    </tr>\n",
              "    <tr>\n",
              "      <th>714</th>\n",
              "      <td>714</td>\n",
              "      <td>NZ_KY271415.1</td>\n",
              "      <td>55680</td>\n",
              "      <td>CAGTTGATTGGGCGTAATGGCTGTTGTGCAGCCAGCTCCTGACAGT...</td>\n",
              "      <td>[CAGTTGATTGGGCGTAATGGCTGTTGTGCAGCCAGCTCCTGACAG...</td>\n",
              "      <td>41</td>\n",
              "    </tr>\n",
              "    <tr>\n",
              "      <th>746</th>\n",
              "      <td>746</td>\n",
              "      <td>NZ_KY515226.1</td>\n",
              "      <td>105994</td>\n",
              "      <td>CTGGCTGTATAAATGCCATCCCTGGTCGTCGTCCAGTTCAATTACA...</td>\n",
              "      <td>[CTGGCTGTATAAATGCCATCCCTGGTCGTCGTCCAGTTCAATTAC...</td>\n",
              "      <td>11</td>\n",
              "    </tr>\n",
              "    <tr>\n",
              "      <th>751</th>\n",
              "      <td>751</td>\n",
              "      <td>NZ_KY349138.1</td>\n",
              "      <td>160489</td>\n",
              "      <td>CTAGGTTGCACTGCTGGAGCCGTAGAACTCGATTCCATCCACGATG...</td>\n",
              "      <td>[CTAGGTTGCACTGCTGGAGCCGTAGAACTCGATTCCATCCACGAT...</td>\n",
              "      <td>3</td>\n",
              "    </tr>\n",
              "    <tr>\n",
              "      <th>758</th>\n",
              "      <td>758</td>\n",
              "      <td>NZ_KY126370.1</td>\n",
              "      <td>114969</td>\n",
              "      <td>TCAGGTTGTGACCAGTAATGCATCACCGAGTCGAGCATAATGGCCA...</td>\n",
              "      <td>[TCAGGTTGTGACCAGTAATGCATCACCGAGTCGAGCATAATGGCC...</td>\n",
              "      <td>2</td>\n",
              "    </tr>\n",
              "    <tr>\n",
              "      <th>760</th>\n",
              "      <td>760</td>\n",
              "      <td>NZ_KY433363.1</td>\n",
              "      <td>85368</td>\n",
              "      <td>ATTATTTCCCACCCTGATGCCGCCCAGCCTTTCAACGCTTAAAACC...</td>\n",
              "      <td>[ATTATTTCCCACCCTGATGCCGCCCAGCCTTTCAACGCTTAAAAC...</td>\n",
              "      <td>5</td>\n",
              "    </tr>\n",
              "    <tr>\n",
              "      <th>775</th>\n",
              "      <td>775</td>\n",
              "      <td>NZ_KY296103.1</td>\n",
              "      <td>53771</td>\n",
              "      <td>CAGAGTTTTTGAAATGTAAGGCCTTTGAATAAGACAAAAGGCTGCC...</td>\n",
              "      <td>[CAGAGTTTTTGAAATGTAAGGCCTTTGAATAAGACAAAAGGCTGC...</td>\n",
              "      <td>23</td>\n",
              "    </tr>\n",
              "    <tr>\n",
              "      <th>801</th>\n",
              "      <td>801</td>\n",
              "      <td>NZ_KX711707.1</td>\n",
              "      <td>34997</td>\n",
              "      <td>ATGAGAATGACGACAAATAAGACTTCCCTTTCTCGCTTAACAAAAG...</td>\n",
              "      <td>[ATGAGAATGACGACAAATAAGACTTCCCTTTCTCGCTTAACAAAA...</td>\n",
              "      <td>3</td>\n",
              "    </tr>\n",
              "    <tr>\n",
              "      <th>818</th>\n",
              "      <td>818</td>\n",
              "      <td>NZ_KX452393.1</td>\n",
              "      <td>2989</td>\n",
              "      <td>GGTCGTTCGGCTGCGGCGAGCGGTGCCGGCTTACAGGCGGGGCGGA...</td>\n",
              "      <td>[GGTCGTTCGGCTGCGGCGAGCGGTGCCGGCTTACAGGCGGGGCGG...</td>\n",
              "      <td>2</td>\n",
              "    </tr>\n",
              "    <tr>\n",
              "      <th>822</th>\n",
              "      <td>822</td>\n",
              "      <td>NZ_KX711708.1</td>\n",
              "      <td>34924</td>\n",
              "      <td>ATGAGAATGACGACAAATAAGACTTCCCTTTCTCGCTTAACAAAAG...</td>\n",
              "      <td>[ATGAGAATGACGACAAATAAGACTTCCCTTTCTCGCTTAACAAAA...</td>\n",
              "      <td>5</td>\n",
              "    </tr>\n",
              "    <tr>\n",
              "      <th>838</th>\n",
              "      <td>838</td>\n",
              "      <td>NZ_KX774387.1</td>\n",
              "      <td>118501</td>\n",
              "      <td>AGCGGGCGGCCGGAAGGTGAATGCTAGGCATGATCTAACCCTCGGT...</td>\n",
              "      <td>[AGCGGGCGGCCGGAAGGTGAATGCTAGGCATGATCTAACCCTCGG...</td>\n",
              "      <td>2</td>\n",
              "    </tr>\n",
              "  </tbody>\n",
              "</table>\n",
              "</div>"
            ],
            "text/plain": [
              "     contig_id  ... regex_list_count\n",
              "21          21  ...                8\n",
              "65          65  ...                2\n",
              "69          69  ...                2\n",
              "134        134  ...                2\n",
              "491        491  ...                3\n",
              "512        512  ...                6\n",
              "527        527  ...                3\n",
              "549        549  ...                2\n",
              "714        714  ...               41\n",
              "746        746  ...               11\n",
              "751        751  ...                3\n",
              "758        758  ...                2\n",
              "760        760  ...                5\n",
              "775        775  ...               23\n",
              "801        801  ...                3\n",
              "818        818  ...                2\n",
              "822        822  ...                5\n",
              "838        838  ...                2\n",
              "\n",
              "[18 rows x 6 columns]"
            ]
          },
          "metadata": {
            "tags": []
          },
          "execution_count": 67
        }
      ]
    },
    {
      "cell_type": "code",
      "metadata": {
        "colab": {
          "base_uri": "https://localhost:8080/"
        },
        "id": "vkWPKkSHG49T",
        "outputId": "6813e1a3-69dd-401d-ce6c-a85f48e13a60"
      },
      "source": [
        "expectedLength = len(contig_info) - len(contig_copy_with_lengths) + np.sum(contig_copy_with_lengths[regexListCount])\n",
        "expectedLength"
      ],
      "execution_count": null,
      "outputs": [
        {
          "output_type": "execute_result",
          "data": {
            "text/plain": [
              "1107"
            ]
          },
          "metadata": {
            "tags": []
          },
          "execution_count": 68
        }
      ]
    },
    {
      "cell_type": "code",
      "metadata": {
        "id": "0aeBfg1a-a8P",
        "colab": {
          "base_uri": "https://localhost:8080/"
        },
        "outputId": "1050964d-662c-4f2a-afb2-216e6e01c506"
      },
      "source": [
        "startTime = datetime.now()\n",
        "contig_copy_with_lengths.apply(lambda row: removeUnwantedSeqs(row), axis = 1)\n",
        "print(datetime.now() - startTime)"
      ],
      "execution_count": null,
      "outputs": [
        {
          "output_type": "stream",
          "text": [
            "0:00:00.079546\n"
          ],
          "name": "stdout"
        }
      ]
    },
    {
      "cell_type": "code",
      "metadata": {
        "id": "3rv4hPl1-asK",
        "colab": {
          "base_uri": "https://localhost:8080/",
          "height": 417
        },
        "outputId": "a990342a-7686-4a83-bb99-2c4189cfd445"
      },
      "source": [
        "print(totalLength)\n",
        "df"
      ],
      "execution_count": null,
      "outputs": [
        {
          "output_type": "stream",
          "text": [
            "1107\n"
          ],
          "name": "stdout"
        },
        {
          "output_type": "execute_result",
          "data": {
            "text/html": [
              "<div>\n",
              "<style scoped>\n",
              "    .dataframe tbody tr th:only-of-type {\n",
              "        vertical-align: middle;\n",
              "    }\n",
              "\n",
              "    .dataframe tbody tr th {\n",
              "        vertical-align: top;\n",
              "    }\n",
              "\n",
              "    .dataframe thead th {\n",
              "        text-align: right;\n",
              "    }\n",
              "</style>\n",
              "<table border=\"1\" class=\"dataframe\">\n",
              "  <thead>\n",
              "    <tr style=\"text-align: right;\">\n",
              "      <th></th>\n",
              "      <th>contig_id</th>\n",
              "      <th>contig_name</th>\n",
              "      <th>contig_length</th>\n",
              "      <th>contig_sequence</th>\n",
              "      <th>regex_list</th>\n",
              "      <th>regex_list_count</th>\n",
              "    </tr>\n",
              "  </thead>\n",
              "  <tbody>\n",
              "    <tr>\n",
              "      <th>0</th>\n",
              "      <td>0</td>\n",
              "      <td>NZ_CP045500.1</td>\n",
              "      <td>42856</td>\n",
              "      <td>GCCGCCGGAACTGCGCTGGCGCGAGTGGATGGGTCGTGTCGAAGCG...</td>\n",
              "      <td>[GCCGCCGGAACTGCGCTGGCGCGAGTGGATGGGTCGTGTCGAAGC...</td>\n",
              "      <td>1.0</td>\n",
              "    </tr>\n",
              "    <tr>\n",
              "      <th>1</th>\n",
              "      <td>1</td>\n",
              "      <td>NZ_CP045499.1</td>\n",
              "      <td>389300</td>\n",
              "      <td>TTGGAGAACACGGGGCTCTTTGAGAGGCGCCAGCCAGGGCCCGTTG...</td>\n",
              "      <td>[TTGGAGAACACGGGGCTCTTTGAGAGGCGCCAGCCAGGGCCCGTT...</td>\n",
              "      <td>1.0</td>\n",
              "    </tr>\n",
              "    <tr>\n",
              "      <th>2</th>\n",
              "      <td>2</td>\n",
              "      <td>NZ_CP045498.1</td>\n",
              "      <td>53938</td>\n",
              "      <td>TCGCATGCCGCATGCCGAGCTCGTCATGAGCGCGTTTGAGTTGCGC...</td>\n",
              "      <td>[TCGCATGCCGCATGCCGAGCTCGTCATGAGCGCGTTTGAGTTGCG...</td>\n",
              "      <td>1.0</td>\n",
              "    </tr>\n",
              "    <tr>\n",
              "      <th>3</th>\n",
              "      <td>3</td>\n",
              "      <td>NZ_CP045497.1</td>\n",
              "      <td>305508</td>\n",
              "      <td>ACGTACGGGCCCGCGACGAAATCGCCGACTTGCAATTCGATGCGGA...</td>\n",
              "      <td>[ACGTACGGGCCCGCGACGAAATCGCCGACTTGCAATTCGATGCGG...</td>\n",
              "      <td>1.0</td>\n",
              "    </tr>\n",
              "    <tr>\n",
              "      <th>4</th>\n",
              "      <td>4</td>\n",
              "      <td>NZ_MT560071.1</td>\n",
              "      <td>2516</td>\n",
              "      <td>TCAAGACGATAGTTACCGGATAAGGCGCAGCAGTCGGACTGAACGG...</td>\n",
              "      <td>[TCAAGACGATAGTTACCGGATAAGGCGCAGCAGTCGGACTGAACG...</td>\n",
              "      <td>1.0</td>\n",
              "    </tr>\n",
              "    <tr>\n",
              "      <th>...</th>\n",
              "      <td>...</td>\n",
              "      <td>...</td>\n",
              "      <td>...</td>\n",
              "      <td>...</td>\n",
              "      <td>...</td>\n",
              "      <td>...</td>\n",
              "    </tr>\n",
              "    <tr>\n",
              "      <th>2</th>\n",
              "      <td>1102</td>\n",
              "      <td>NZ_KX711708.1_2</td>\n",
              "      <td>575</td>\n",
              "      <td>TAAAAGAAAATGATAAAGAGTTTATTGGGCCACTTGCTATGATTAA...</td>\n",
              "      <td>NaN</td>\n",
              "      <td>NaN</td>\n",
              "    </tr>\n",
              "    <tr>\n",
              "      <th>3</th>\n",
              "      <td>1103</td>\n",
              "      <td>NZ_KX711708.1_3</td>\n",
              "      <td>3</td>\n",
              "      <td>TGT</td>\n",
              "      <td>NaN</td>\n",
              "      <td>NaN</td>\n",
              "    </tr>\n",
              "    <tr>\n",
              "      <th>4</th>\n",
              "      <td>1104</td>\n",
              "      <td>NZ_KX711708.1_4</td>\n",
              "      <td>27577</td>\n",
              "      <td>TTCACTGAACGTATTTGGCTGGCATTTATACAGGAGCACATGTGCA...</td>\n",
              "      <td>NaN</td>\n",
              "      <td>NaN</td>\n",
              "    </tr>\n",
              "    <tr>\n",
              "      <th>0</th>\n",
              "      <td>1105</td>\n",
              "      <td>NZ_KX774387.1_0</td>\n",
              "      <td>105067</td>\n",
              "      <td>AGCGGGCGGCCGGAAGGTGAATGCTAGGCATGATCTAACCCTCGGT...</td>\n",
              "      <td>NaN</td>\n",
              "      <td>NaN</td>\n",
              "    </tr>\n",
              "    <tr>\n",
              "      <th>1</th>\n",
              "      <td>1106</td>\n",
              "      <td>NZ_KX774387.1_1</td>\n",
              "      <td>13433</td>\n",
              "      <td>TTGAATTAAGTGGTAACAACTTAATTCTGGCGCATTGAAGCCGTTG...</td>\n",
              "      <td>NaN</td>\n",
              "      <td>NaN</td>\n",
              "    </tr>\n",
              "  </tbody>\n",
              "</table>\n",
              "<p>1107 rows × 6 columns</p>\n",
              "</div>"
            ],
            "text/plain": [
              "    contig_id  ... regex_list_count\n",
              "0           0  ...              1.0\n",
              "1           1  ...              1.0\n",
              "2           2  ...              1.0\n",
              "3           3  ...              1.0\n",
              "4           4  ...              1.0\n",
              "..        ...  ...              ...\n",
              "2        1102  ...              NaN\n",
              "3        1103  ...              NaN\n",
              "4        1104  ...              NaN\n",
              "0        1105  ...              NaN\n",
              "1        1106  ...              NaN\n",
              "\n",
              "[1107 rows x 6 columns]"
            ]
          },
          "metadata": {
            "tags": []
          },
          "execution_count": 70
        }
      ]
    },
    {
      "cell_type": "code",
      "metadata": {
        "colab": {
          "base_uri": "https://localhost:8080/",
          "height": 435
        },
        "id": "ZhU4I--pJ4Rm",
        "outputId": "4ff9ca10-58bf-490a-a68c-3ad258f71361"
      },
      "source": [
        "contig_info_df = df.copy()\n",
        "\n",
        "startTime = datetime.now()\n",
        "filtered_df = contig_info_df.loc[contig_info_df.apply(lambda row: row[contigLength] > minLength, axis = 1)]\n",
        "PrintToConsole(\" minimum length time \", datetime.now() - startTime)\n",
        "\n",
        "PrintToConsole(\"Filtered length sequences \", len(filtered_df))\n",
        "df = filtered_df[[contigId, contigLength, contigName, contigSequence]]\n",
        "df"
      ],
      "execution_count": null,
      "outputs": [
        {
          "output_type": "stream",
          "text": [
            " minimum length time  0:00:00.011164  \n",
            "Filtered length sequences  1036  \n"
          ],
          "name": "stdout"
        },
        {
          "output_type": "execute_result",
          "data": {
            "text/html": [
              "<div>\n",
              "<style scoped>\n",
              "    .dataframe tbody tr th:only-of-type {\n",
              "        vertical-align: middle;\n",
              "    }\n",
              "\n",
              "    .dataframe tbody tr th {\n",
              "        vertical-align: top;\n",
              "    }\n",
              "\n",
              "    .dataframe thead th {\n",
              "        text-align: right;\n",
              "    }\n",
              "</style>\n",
              "<table border=\"1\" class=\"dataframe\">\n",
              "  <thead>\n",
              "    <tr style=\"text-align: right;\">\n",
              "      <th></th>\n",
              "      <th>contig_id</th>\n",
              "      <th>contig_length</th>\n",
              "      <th>contig_name</th>\n",
              "      <th>contig_sequence</th>\n",
              "    </tr>\n",
              "  </thead>\n",
              "  <tbody>\n",
              "    <tr>\n",
              "      <th>0</th>\n",
              "      <td>0</td>\n",
              "      <td>42856</td>\n",
              "      <td>NZ_CP045500.1</td>\n",
              "      <td>GCCGCCGGAACTGCGCTGGCGCGAGTGGATGGGTCGTGTCGAAGCG...</td>\n",
              "    </tr>\n",
              "    <tr>\n",
              "      <th>1</th>\n",
              "      <td>1</td>\n",
              "      <td>389300</td>\n",
              "      <td>NZ_CP045499.1</td>\n",
              "      <td>TTGGAGAACACGGGGCTCTTTGAGAGGCGCCAGCCAGGGCCCGTTG...</td>\n",
              "    </tr>\n",
              "    <tr>\n",
              "      <th>2</th>\n",
              "      <td>2</td>\n",
              "      <td>53938</td>\n",
              "      <td>NZ_CP045498.1</td>\n",
              "      <td>TCGCATGCCGCATGCCGAGCTCGTCATGAGCGCGTTTGAGTTGCGC...</td>\n",
              "    </tr>\n",
              "    <tr>\n",
              "      <th>3</th>\n",
              "      <td>3</td>\n",
              "      <td>305508</td>\n",
              "      <td>NZ_CP045497.1</td>\n",
              "      <td>ACGTACGGGCCCGCGACGAAATCGCCGACTTGCAATTCGATGCGGA...</td>\n",
              "    </tr>\n",
              "    <tr>\n",
              "      <th>4</th>\n",
              "      <td>4</td>\n",
              "      <td>2516</td>\n",
              "      <td>NZ_MT560071.1</td>\n",
              "      <td>TCAAGACGATAGTTACCGGATAAGGCGCAGCAGTCGGACTGAACGG...</td>\n",
              "    </tr>\n",
              "    <tr>\n",
              "      <th>...</th>\n",
              "      <td>...</td>\n",
              "      <td>...</td>\n",
              "      <td>...</td>\n",
              "      <td>...</td>\n",
              "    </tr>\n",
              "    <tr>\n",
              "      <th>1</th>\n",
              "      <td>1099</td>\n",
              "      <td>2672</td>\n",
              "      <td>NZ_KX452393.1_1</td>\n",
              "      <td>GTAGGCAGTTCGCTCCAAGCTGGACTGTATGCACGAACCCCCCGTT...</td>\n",
              "    </tr>\n",
              "    <tr>\n",
              "      <th>0</th>\n",
              "      <td>1100</td>\n",
              "      <td>6723</td>\n",
              "      <td>NZ_KX711708.1_0</td>\n",
              "      <td>ATGAGAATGACGACAAATAAGACTTCCCTTTCTCGCTTAACAAAAG...</td>\n",
              "    </tr>\n",
              "    <tr>\n",
              "      <th>4</th>\n",
              "      <td>1104</td>\n",
              "      <td>27577</td>\n",
              "      <td>NZ_KX711708.1_4</td>\n",
              "      <td>TTCACTGAACGTATTTGGCTGGCATTTATACAGGAGCACATGTGCA...</td>\n",
              "    </tr>\n",
              "    <tr>\n",
              "      <th>0</th>\n",
              "      <td>1105</td>\n",
              "      <td>105067</td>\n",
              "      <td>NZ_KX774387.1_0</td>\n",
              "      <td>AGCGGGCGGCCGGAAGGTGAATGCTAGGCATGATCTAACCCTCGGT...</td>\n",
              "    </tr>\n",
              "    <tr>\n",
              "      <th>1</th>\n",
              "      <td>1106</td>\n",
              "      <td>13433</td>\n",
              "      <td>NZ_KX774387.1_1</td>\n",
              "      <td>TTGAATTAAGTGGTAACAACTTAATTCTGGCGCATTGAAGCCGTTG...</td>\n",
              "    </tr>\n",
              "  </tbody>\n",
              "</table>\n",
              "<p>1036 rows × 4 columns</p>\n",
              "</div>"
            ],
            "text/plain": [
              "    contig_id  ...                                    contig_sequence\n",
              "0           0  ...  GCCGCCGGAACTGCGCTGGCGCGAGTGGATGGGTCGTGTCGAAGCG...\n",
              "1           1  ...  TTGGAGAACACGGGGCTCTTTGAGAGGCGCCAGCCAGGGCCCGTTG...\n",
              "2           2  ...  TCGCATGCCGCATGCCGAGCTCGTCATGAGCGCGTTTGAGTTGCGC...\n",
              "3           3  ...  ACGTACGGGCCCGCGACGAAATCGCCGACTTGCAATTCGATGCGGA...\n",
              "4           4  ...  TCAAGACGATAGTTACCGGATAAGGCGCAGCAGTCGGACTGAACGG...\n",
              "..        ...  ...                                                ...\n",
              "1        1099  ...  GTAGGCAGTTCGCTCCAAGCTGGACTGTATGCACGAACCCCCCGTT...\n",
              "0        1100  ...  ATGAGAATGACGACAAATAAGACTTCCCTTTCTCGCTTAACAAAAG...\n",
              "4        1104  ...  TTCACTGAACGTATTTGGCTGGCATTTATACAGGAGCACATGTGCA...\n",
              "0        1105  ...  AGCGGGCGGCCGGAAGGTGAATGCTAGGCATGATCTAACCCTCGGT...\n",
              "1        1106  ...  TTGAATTAAGTGGTAACAACTTAATTCTGGCGCATTGAAGCCGTTG...\n",
              "\n",
              "[1036 rows x 4 columns]"
            ]
          },
          "metadata": {
            "tags": []
          },
          "execution_count": 71
        }
      ]
    },
    {
      "cell_type": "code",
      "metadata": {
        "id": "3_XU_xj0Uj7J"
      },
      "source": [
        "l = 1000\n",
        "lengthFrame = df.loc[df.apply(lambda row: row[contigLength] > l * fragmentRatio, axis = 1)]\n",
        "totalLength = np.sum(lengthFrame[contigLength])\n",
        "numberOfFragments = min(maximumFragments, int(np.ceil(totalLength*coverage/float(l))))\n",
        "lengthFrame[\"probability\"] = lengthFrame.apply(lambda row: float(row[contigLength])/float(totalLength), axis = 1)"
      ],
      "execution_count": null,
      "outputs": []
    },
    {
      "cell_type": "code",
      "metadata": {
        "colab": {
          "base_uri": "https://localhost:8080/",
          "height": 435
        },
        "id": "VgTyg1VNA-Vg",
        "outputId": "032556f1-431c-4703-abb5-37c8d59c2fde"
      },
      "source": [
        "print(totalLength)\n",
        "print(numberOfFragments)\n",
        "lengthFrame"
      ],
      "execution_count": null,
      "outputs": [
        {
          "output_type": "stream",
          "text": [
            "93124453\n",
            "465623\n"
          ],
          "name": "stdout"
        },
        {
          "output_type": "execute_result",
          "data": {
            "text/html": [
              "<div>\n",
              "<style scoped>\n",
              "    .dataframe tbody tr th:only-of-type {\n",
              "        vertical-align: middle;\n",
              "    }\n",
              "\n",
              "    .dataframe tbody tr th {\n",
              "        vertical-align: top;\n",
              "    }\n",
              "\n",
              "    .dataframe thead th {\n",
              "        text-align: right;\n",
              "    }\n",
              "</style>\n",
              "<table border=\"1\" class=\"dataframe\">\n",
              "  <thead>\n",
              "    <tr style=\"text-align: right;\">\n",
              "      <th></th>\n",
              "      <th>contig_id</th>\n",
              "      <th>contig_length</th>\n",
              "      <th>contig_name</th>\n",
              "      <th>contig_sequence</th>\n",
              "      <th>probability</th>\n",
              "    </tr>\n",
              "  </thead>\n",
              "  <tbody>\n",
              "    <tr>\n",
              "      <th>0</th>\n",
              "      <td>0</td>\n",
              "      <td>42856</td>\n",
              "      <td>NZ_CP045500.1</td>\n",
              "      <td>GCCGCCGGAACTGCGCTGGCGCGAGTGGATGGGTCGTGTCGAAGCG...</td>\n",
              "      <td>0.000460</td>\n",
              "    </tr>\n",
              "    <tr>\n",
              "      <th>1</th>\n",
              "      <td>1</td>\n",
              "      <td>389300</td>\n",
              "      <td>NZ_CP045499.1</td>\n",
              "      <td>TTGGAGAACACGGGGCTCTTTGAGAGGCGCCAGCCAGGGCCCGTTG...</td>\n",
              "      <td>0.004180</td>\n",
              "    </tr>\n",
              "    <tr>\n",
              "      <th>2</th>\n",
              "      <td>2</td>\n",
              "      <td>53938</td>\n",
              "      <td>NZ_CP045498.1</td>\n",
              "      <td>TCGCATGCCGCATGCCGAGCTCGTCATGAGCGCGTTTGAGTTGCGC...</td>\n",
              "      <td>0.000579</td>\n",
              "    </tr>\n",
              "    <tr>\n",
              "      <th>3</th>\n",
              "      <td>3</td>\n",
              "      <td>305508</td>\n",
              "      <td>NZ_CP045497.1</td>\n",
              "      <td>ACGTACGGGCCCGCGACGAAATCGCCGACTTGCAATTCGATGCGGA...</td>\n",
              "      <td>0.003281</td>\n",
              "    </tr>\n",
              "    <tr>\n",
              "      <th>4</th>\n",
              "      <td>4</td>\n",
              "      <td>2516</td>\n",
              "      <td>NZ_MT560071.1</td>\n",
              "      <td>TCAAGACGATAGTTACCGGATAAGGCGCAGCAGTCGGACTGAACGG...</td>\n",
              "      <td>0.000027</td>\n",
              "    </tr>\n",
              "    <tr>\n",
              "      <th>...</th>\n",
              "      <td>...</td>\n",
              "      <td>...</td>\n",
              "      <td>...</td>\n",
              "      <td>...</td>\n",
              "      <td>...</td>\n",
              "    </tr>\n",
              "    <tr>\n",
              "      <th>1</th>\n",
              "      <td>1099</td>\n",
              "      <td>2672</td>\n",
              "      <td>NZ_KX452393.1_1</td>\n",
              "      <td>GTAGGCAGTTCGCTCCAAGCTGGACTGTATGCACGAACCCCCCGTT...</td>\n",
              "      <td>0.000029</td>\n",
              "    </tr>\n",
              "    <tr>\n",
              "      <th>0</th>\n",
              "      <td>1100</td>\n",
              "      <td>6723</td>\n",
              "      <td>NZ_KX711708.1_0</td>\n",
              "      <td>ATGAGAATGACGACAAATAAGACTTCCCTTTCTCGCTTAACAAAAG...</td>\n",
              "      <td>0.000072</td>\n",
              "    </tr>\n",
              "    <tr>\n",
              "      <th>4</th>\n",
              "      <td>1104</td>\n",
              "      <td>27577</td>\n",
              "      <td>NZ_KX711708.1_4</td>\n",
              "      <td>TTCACTGAACGTATTTGGCTGGCATTTATACAGGAGCACATGTGCA...</td>\n",
              "      <td>0.000296</td>\n",
              "    </tr>\n",
              "    <tr>\n",
              "      <th>0</th>\n",
              "      <td>1105</td>\n",
              "      <td>105067</td>\n",
              "      <td>NZ_KX774387.1_0</td>\n",
              "      <td>AGCGGGCGGCCGGAAGGTGAATGCTAGGCATGATCTAACCCTCGGT...</td>\n",
              "      <td>0.001128</td>\n",
              "    </tr>\n",
              "    <tr>\n",
              "      <th>1</th>\n",
              "      <td>1106</td>\n",
              "      <td>13433</td>\n",
              "      <td>NZ_KX774387.1_1</td>\n",
              "      <td>TTGAATTAAGTGGTAACAACTTAATTCTGGCGCATTGAAGCCGTTG...</td>\n",
              "      <td>0.000144</td>\n",
              "    </tr>\n",
              "  </tbody>\n",
              "</table>\n",
              "<p>1036 rows × 5 columns</p>\n",
              "</div>"
            ],
            "text/plain": [
              "    contig_id  ...  probability\n",
              "0           0  ...     0.000460\n",
              "1           1  ...     0.004180\n",
              "2           2  ...     0.000579\n",
              "3           3  ...     0.003281\n",
              "4           4  ...     0.000027\n",
              "..        ...  ...          ...\n",
              "1        1099  ...     0.000029\n",
              "0        1100  ...     0.000072\n",
              "4        1104  ...     0.000296\n",
              "0        1105  ...     0.001128\n",
              "1        1106  ...     0.000144\n",
              "\n",
              "[1036 rows x 5 columns]"
            ]
          },
          "metadata": {
            "tags": []
          },
          "execution_count": 73
        }
      ]
    },
    {
      "cell_type": "code",
      "metadata": {
        "id": "9tpF1UoLDRSI"
      },
      "source": [
        "lengthSpecificDf = lengthFrame.copy()\n",
        "lengthFrame = lengthFrame.sample(n=numberOfFragments, replace = True, weights = lengthFrame[\"probability\"])"
      ],
      "execution_count": null,
      "outputs": []
    },
    {
      "cell_type": "code",
      "metadata": {
        "id": "UKmjgMDUrpgV"
      },
      "source": [
        "sequencesDf1 = lengthFrame.apply(lambda row: getSequence(row[contigSequence], row[contigLength], l), axis = 1) "
      ],
      "execution_count": null,
      "outputs": []
    },
    {
      "cell_type": "code",
      "metadata": {
        "colab": {
          "base_uri": "https://localhost:8080/",
          "height": 399
        },
        "id": "uQaYvq9_RV5z",
        "outputId": "7002b268-2f81-4a85-cce6-4b35a8c9723d"
      },
      "source": [
        "sequencesDf = pd.DataFrame({\"sequence\" : sequencesDf1})\n",
        "sequencesDf.reset_index(inplace = True, drop=True)\n",
        "sequencesDf[\"sequenceId\"] = sequencesDf.index\n",
        "sequencesDf"
      ],
      "execution_count": null,
      "outputs": [
        {
          "output_type": "execute_result",
          "data": {
            "text/html": [
              "<div>\n",
              "<style scoped>\n",
              "    .dataframe tbody tr th:only-of-type {\n",
              "        vertical-align: middle;\n",
              "    }\n",
              "\n",
              "    .dataframe tbody tr th {\n",
              "        vertical-align: top;\n",
              "    }\n",
              "\n",
              "    .dataframe thead th {\n",
              "        text-align: right;\n",
              "    }\n",
              "</style>\n",
              "<table border=\"1\" class=\"dataframe\">\n",
              "  <thead>\n",
              "    <tr style=\"text-align: right;\">\n",
              "      <th></th>\n",
              "      <th>sequence</th>\n",
              "      <th>sequenceId</th>\n",
              "    </tr>\n",
              "  </thead>\n",
              "  <tbody>\n",
              "    <tr>\n",
              "      <th>0</th>\n",
              "      <td>TCGGTTACAGAGCTCCCGGACGGCCTGAGACCTCTCTTCCGGGCTG...</td>\n",
              "      <td>0</td>\n",
              "    </tr>\n",
              "    <tr>\n",
              "      <th>1</th>\n",
              "      <td>GGAAAGCCCTGATATGGCTACTGAAGAATGGTTCGGCTATGGCCGT...</td>\n",
              "      <td>1</td>\n",
              "    </tr>\n",
              "    <tr>\n",
              "      <th>2</th>\n",
              "      <td>ATAACATCGCAGGAGTTCGACATGCTCAAGAGACAGCTGATTGCGA...</td>\n",
              "      <td>2</td>\n",
              "    </tr>\n",
              "    <tr>\n",
              "      <th>3</th>\n",
              "      <td>CGTGATAATGACGGTAAACGCGCTGACATCAGGAAAAAAGATTTAC...</td>\n",
              "      <td>3</td>\n",
              "    </tr>\n",
              "    <tr>\n",
              "      <th>4</th>\n",
              "      <td>AACGTTTTTGCGGTGCGAATTTCTTCGATCAGTTTATTGATATCTG...</td>\n",
              "      <td>4</td>\n",
              "    </tr>\n",
              "    <tr>\n",
              "      <th>...</th>\n",
              "      <td>...</td>\n",
              "      <td>...</td>\n",
              "    </tr>\n",
              "    <tr>\n",
              "      <th>465618</th>\n",
              "      <td>CGCTGACGACGTGTTTGCCTGGTCCGTGCAGACTCAGTTTCCTTCT...</td>\n",
              "      <td>465618</td>\n",
              "    </tr>\n",
              "    <tr>\n",
              "      <th>465619</th>\n",
              "      <td>ATGCCTGATATTTATGAACTTGCCCAACAACGCGCTGAAGTCATTA...</td>\n",
              "      <td>465619</td>\n",
              "    </tr>\n",
              "    <tr>\n",
              "      <th>465620</th>\n",
              "      <td>ATGAATACCAGTCAGTTGTCACTCGCGAACAATACGAATCAGCTCT...</td>\n",
              "      <td>465620</td>\n",
              "    </tr>\n",
              "    <tr>\n",
              "      <th>465621</th>\n",
              "      <td>TTGTTGCGCTCCATCGCATAGATCATGCGCGTGGTGGTCGCCATGT...</td>\n",
              "      <td>465621</td>\n",
              "    </tr>\n",
              "    <tr>\n",
              "      <th>465622</th>\n",
              "      <td>GCGCCGTGCCGCTTCGTCGTCCCACGCTCGACGAACTGGCCCGCGT...</td>\n",
              "      <td>465622</td>\n",
              "    </tr>\n",
              "  </tbody>\n",
              "</table>\n",
              "<p>465623 rows × 2 columns</p>\n",
              "</div>"
            ],
            "text/plain": [
              "                                                 sequence  sequenceId\n",
              "0       TCGGTTACAGAGCTCCCGGACGGCCTGAGACCTCTCTTCCGGGCTG...           0\n",
              "1       GGAAAGCCCTGATATGGCTACTGAAGAATGGTTCGGCTATGGCCGT...           1\n",
              "2       ATAACATCGCAGGAGTTCGACATGCTCAAGAGACAGCTGATTGCGA...           2\n",
              "3       CGTGATAATGACGGTAAACGCGCTGACATCAGGAAAAAAGATTTAC...           3\n",
              "4       AACGTTTTTGCGGTGCGAATTTCTTCGATCAGTTTATTGATATCTG...           4\n",
              "...                                                   ...         ...\n",
              "465618  CGCTGACGACGTGTTTGCCTGGTCCGTGCAGACTCAGTTTCCTTCT...      465618\n",
              "465619  ATGCCTGATATTTATGAACTTGCCCAACAACGCGCTGAAGTCATTA...      465619\n",
              "465620  ATGAATACCAGTCAGTTGTCACTCGCGAACAATACGAATCAGCTCT...      465620\n",
              "465621  TTGTTGCGCTCCATCGCATAGATCATGCGCGTGGTGGTCGCCATGT...      465621\n",
              "465622  GCGCCGTGCCGCTTCGTCGTCCCACGCTCGACGAACTGGCCCGCGT...      465622\n",
              "\n",
              "[465623 rows x 2 columns]"
            ]
          },
          "metadata": {
            "tags": []
          },
          "execution_count": 109
        }
      ]
    },
    {
      "cell_type": "code",
      "metadata": {
        "colab": {
          "base_uri": "https://localhost:8080/"
        },
        "id": "WzQg5O3wM6ze",
        "outputId": "56a4c3dd-e8c1-49be-f670-04fc0f44301d"
      },
      "source": [
        "startTime = datetime.now()\n",
        "lengthFrame.apply(lambda row: getSequence(row[contigSequence], row[contigLength], l), axis = 1)\n",
        "print(datetime.now() - startTime)"
      ],
      "execution_count": null,
      "outputs": [
        {
          "output_type": "stream",
          "text": [
            "0:00:08.438573\n"
          ],
          "name": "stdout"
        }
      ]
    },
    {
      "cell_type": "markdown",
      "metadata": {
        "id": "54T1KW15EhBM"
      },
      "source": [
        "#Unwanted"
      ]
    },
    {
      "cell_type": "code",
      "metadata": {
        "id": "V1AbZT4zEeJJ"
      },
      "source": [
        ""
      ],
      "execution_count": null,
      "outputs": []
    },
    {
      "cell_type": "code",
      "metadata": {
        "id": "0SuNhV39XY1O"
      },
      "source": [
        "# def parse_seqs(inputfile, min_length = 1000):\n",
        "#     \"\"\"Return a list of the seqs and a pandas dataframe with metadata.\"\"\"\n",
        "#     if verbose:\n",
        "#       print(\"Importing sequences\")\n",
        "#     startTime = datetime.now()\n",
        "#     initialSequences = SeqIO.parse(inputfile, 'fasta')\n",
        "#     print(\"Reading Time \\t\", datetime.now() - startTime)\n",
        "#     #TODO:// Can create as a numpy array\n",
        "#     seqs = [rec for rec in initialSequences if countSequencesInFile() and len(rec.seq) >= min_length and re.match(dnaStringPattern, str(rec.seq[0:])) != None] # NOTE:// np.str got 53 seconds, normal methods 41\n",
        "#     if verbose:\n",
        "#       print(\"Imported \", len(seqs), \" sequences\")\n",
        "#     contig_info = pd.DataFrame([\n",
        "#         {'contig_id': i, 'contig_name': rec.id, 'contig_length': len(rec.seq)}\n",
        "#         for i, rec in enumerate(seqs)\n",
        "#     ])\n",
        "#     startTime = datetime.now()\n",
        "#     cat = SeqIO.to_dict(initialSequences)\n",
        "#     print(len(cat))\n",
        "#     print(cat)\n",
        "#     print(\"Sequence Count\", seqCount)\n",
        "#     # validSequenceRatio = len(contig_info) / len(SeqIO.to_dict(initialSequences))\n",
        "#     print(\"Precentage Time \\t\", datetime.now() - startTime)\n",
        "#     #TOCHECK:// Valid row ratio\n",
        "#     # print(validSequenceRatio)\n",
        "#     return seqs, contig_info"
      ],
      "execution_count": null,
      "outputs": []
    },
    {
      "cell_type": "code",
      "metadata": {
        "id": "xqQGj4dlXbJo"
      },
      "source": [
        "# def parse_seqs(inputfile, min_length = 1000):\n",
        "#     \"\"\"Return a list of the seqs and a pandas dataframe with metadata.\"\"\"\n",
        "#     if verbose:\n",
        "#       print(\"Importing sequences\")\n",
        "#     startTime = datetime.now()\n",
        "#     initialSequences = SeqIO.parse(inputfile, 'fasta')\n",
        "#     print(\"Reading Time \\t\", datetime.now() - startTime)\n",
        "#     #TODO:// Can create as a numpy array\n",
        "#     seqs = [rec for rec in initialSequences] # NOTE:// np.str got 53 seconds, normal methods 41\n",
        "#     print(datetime.now() - startTime)\n",
        "#     startTime = datetime.now()\n",
        "#     if verbose:\n",
        "#       print(\"Imported \", len(seqs), \" sequences\")\n",
        "#     contig_info = pd.DataFrame([\n",
        "#         {'contig_id': i, 'contig_name': rec.id, 'contig_length': len(rec.seq)}\n",
        "#         for i, rec in enumerate(seqs)\n",
        "#     ])\n",
        "#     print(datetime.now() - startTime)\n",
        "#     print(\"initial dataframe\\n\")\n",
        "#     print(contig_info)\n",
        "#     startTime = datetime.now()\n",
        "#     print(\"Total length sequences \", len(contig_info))\n",
        "#     # seq_tensor = torch.from_numpy(contig_info.to_numpy().astype(str))\n",
        "#     filtered_contig_info = contig_info.loc[contig_info.apply(lambda row: row['contig_length'] > minLength, axis = 1)]\n",
        "#     print(filtered_contig_info)\n",
        "#     print(len(filtered_contig_info))\n",
        "#     print(datetime.now() - startTime)\n",
        "#     print(filtered_contig_info['contig_length'])\n",
        "#     return seqs, contig_info"
      ],
      "execution_count": null,
      "outputs": []
    },
    {
      "cell_type": "code",
      "metadata": {
        "id": "3FRfjlzzXbKk"
      },
      "source": [
        ""
      ],
      "execution_count": null,
      "outputs": []
    }
  ]
}