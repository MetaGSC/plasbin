{
 "cells": [
  {
   "cell_type": "code",
   "execution_count": 1,
   "source": [
    "import os\n",
    "import sys\n",
    "import re\n",
    "from tqdm import tqdm\n",
    "import argparse\n",
    "import numpy as np\n",
    "import pandas as pd\n",
    "import matplotlib.pyplot as plt\n",
    "# from Bio import SeqIO\n",
    "from datetime import datetime\n",
    "from numpy.random import randint\n",
    "import torch\n",
    "import torch.utils.data\n",
    "from torch.utils.data import random_split\n",
    "import torch.nn as nn\n",
    "import torch.nn.functional as F\n",
    "from torch.utils.data.dataloader import DataLoader\n",
    "\n",
    "import matplotlib\n",
    "import matplotlib.pyplot as plt"
   ],
   "outputs": [],
   "metadata": {
    "id": "8yAKNWhCDX4q"
   }
  },
  {
   "cell_type": "code",
   "execution_count": 2,
   "source": [
    "# Add Cuda availability\n",
    "\n",
    "print(f'torch vesrion:{torch.__version__}  cuda availability:{torch.cuda.is_available()} with {torch.cuda.device_count()} GPU devices')\n",
    "\n",
    "def get_default_device():\n",
    "    \"\"\"Pick GPU if available, else CPU\"\"\"\n",
    "    if torch.cuda.is_available():\n",
    "        return torch.device('cuda')\n",
    "    else:\n",
    "        return torch.device('cpu')\n",
    "    \n",
    "def to_device(data, device):\n",
    "    \"\"\"Move tensor(s) to chosen device\"\"\"\n",
    "    if isinstance(data, (list,tuple)):\n",
    "        return [to_device(x, device) for x in data]\n",
    "    return data.to(device, non_blocking=True)\n",
    "\n",
    "class DeviceDataLoader(DataLoader):\n",
    "    \"\"\"Wrap a dataloader to move data to a device\"\"\"\n",
    "    def __init__(self, dl, device, batchSize, *args, **kwargs):\n",
    "        super(DeviceDataLoader, self).__init__(dl, batchSize, *args, **kwargs)\n",
    "        self.dl = dl\n",
    "        self.device = device\n",
    "        # for b in self.dl: \n",
    "        #   yield to_device(b, self.device)\n",
    "        \n",
    "    def __iter__(self):\n",
    "        \"\"\"Yield a batch of data after moving it to device\"\"\"\n",
    "        # super(DeviceDataLoader, self).__iter__()\n",
    "        for b in self.dl: \n",
    "            yield to_device(b, self.device)\n",
    "\n",
    "    def __len__(self):\n",
    "        \"\"\"Number of batches\"\"\"\n",
    "        return len(self.dl)\n",
    "\n",
    "device = get_default_device()\n",
    "print(f'{device} set as the default device')\n",
    "\n"
   ],
   "outputs": [
    {
     "output_type": "stream",
     "name": "stdout",
     "text": [
      "torch vesrion:1.9.0+cu102  cuda availability:False with 0 GPU devices\n",
      "cpu set as the default device\n"
     ]
    }
   ],
   "metadata": {
    "colab": {
     "base_uri": "https://localhost:8080/"
    },
    "id": "L38TXio0GiWb",
    "outputId": "c19bc2fd-51c3-4f5c-cfa3-ae772db0723c"
   }
  },
  {
   "cell_type": "code",
   "execution_count": 3,
   "source": [
    "k = 7\n",
    "global cat\n",
    "cat = pd.DataFrame(columns=['label'])\n"
   ],
   "outputs": [],
   "metadata": {
    "id": "hLnhnx2iDX6W"
   }
  },
  {
   "cell_type": "code",
   "execution_count": 4,
   "source": [
    "from HDF5dataset import HDF5Dataset\n",
    "from WeightsCreator import make_weights_for_balanced_classes"
   ],
   "outputs": [],
   "metadata": {
    "id": "48jS-jAgbl6B"
   }
  },
  {
   "cell_type": "code",
   "execution_count": 5,
   "source": [
    "inputFeatures = int((4**k) / 2)\n",
    "# inputFeatures = 2\n",
    "layer_array = [512, 512, 256, 256]\n",
    "outputSize = 10\n",
    "momentum = 0.4\n",
    "dropoutProb = 0.5\n",
    "batchSize = 200\n",
    "num_epochs = 20\n",
    "opt_func = torch.optim.Adam\n",
    "lr = 0.001\n",
    "num_workers = 2"
   ],
   "outputs": [],
   "metadata": {
    "id": "kOtsr5aFfk-d"
   }
  },
  {
   "cell_type": "code",
   "execution_count": 6,
   "source": [
    "print('Importing the dataset....')\n",
    "# trainingDataset = HDF5Dataset('/home/chamikanandasiri/Datasets/DNAML_Plasmid/DNAML_plasmid_train.h5', True)\n",
    "# trainingDataset = HDF5Dataset(\n",
    "#     '/home/chamikanandasiri/Test/Plasmid_0.1_Dataset.h5', True)\n",
    "trainingDataset = HDF5Dataset('/home/chamikanandasiri/Test/Plasmid_0.008_Dataset.h5', True)\n",
    "datasetsize = len(trainingDataset)\n",
    "\n",
    "train_size = int(0.8 * len(trainingDataset))\n",
    "val_size = len(trainingDataset) - train_size\n",
    "\n",
    "print('\\nSplitting Training/Validation datasets....')\n",
    "train_ds, val_ds = random_split(trainingDataset, [train_size, val_size])\n",
    "print('==== Dataset processed ====')\n"
   ],
   "outputs": [
    {
     "output_type": "stream",
     "name": "stdout",
     "text": [
      "Importing the dataset....\n"
     ]
    },
    {
     "output_type": "stream",
     "name": "stderr",
     "text": [
      "100%|██████████| 2301/2301 [00:02<00:00, 917.83it/s]"
     ]
    },
    {
     "output_type": "stream",
     "name": "stdout",
     "text": [
      "\n",
      "Splitting Training/Validation datasets....\n",
      "==== Dataset processed ====\n"
     ]
    },
    {
     "output_type": "stream",
     "name": "stderr",
     "text": [
      "\n"
     ]
    }
   ],
   "metadata": {
    "colab": {
     "base_uri": "https://localhost:8080/"
    },
    "id": "WTtKREf04yUl",
    "outputId": "76016da7-c500-4502-e74d-fcc2b14cc49c"
   }
  },
  {
   "cell_type": "code",
   "execution_count": 7,
   "source": [
    "ind = torch.tensor(train_ds.indices)\n",
    "tens = train_ds.dataset.get_label_values(ind)"
   ],
   "outputs": [
    {
     "output_type": "stream",
     "name": "stdout",
     "text": [
      "Retriving labels for training set......\n"
     ]
    },
    {
     "output_type": "stream",
     "name": "stderr",
     "text": [
      "100%|██████████| 1840/1840 [00:00<00:00, 51045.51it/s]\n"
     ]
    }
   ],
   "metadata": {
    "colab": {
     "base_uri": "https://localhost:8080/"
    },
    "id": "A7SGnJF855MA",
    "outputId": "31466e4b-c663-4ca7-96fb-3706c9366e91"
   }
  },
  {
   "cell_type": "code",
   "execution_count": 8,
   "source": [
    "weights = make_weights_for_balanced_classes(outputSize, tens)\n",
    "sampler = torch.utils.data.sampler.WeightedRandomSampler(weights, train_size)\n",
    "\n",
    "train_dl = DataLoader(train_ds, batchSize, shuffle=False, num_workers=num_workers, pin_memory=True, sampler=sampler)\n",
    "val_dl = DataLoader(val_ds, batchSize, num_workers=num_workers, pin_memory=True)\n",
    "\n",
    "#=================================================================================================\n",
    "# train_dl = DataLoader(train_ds, batchSize, shuffle=True, num_workers=num_workers, pin_memory=True)\n",
    "# val_dl = DataLoader(val_ds, batchSize, num_workers=num_workers, pin_memory=True)"
   ],
   "outputs": [
    {
     "output_type": "stream",
     "name": "stdout",
     "text": [
      "Calculating weights for 10 classes....\n",
      "Assigning class weights....\n",
      "==== Weights calculated ====\n"
     ]
    }
   ],
   "metadata": {
    "colab": {
     "base_uri": "https://localhost:8080/"
    },
    "id": "-HzhaoIx5Hzn",
    "outputId": "692c78aa-70ed-4c27-b0ea-f3fb41ac3717"
   }
  },
  {
   "cell_type": "code",
   "execution_count": 12,
   "source": [
    "@torch.no_grad()\n",
    "def evaluate(model, val_loader):\n",
    "    model.eval()\n",
    "    outputs = [model.validation_step(batch) for batch in val_loader]\n",
    "    return model.validation_epoch_end(outputs)\n",
    "\n",
    "def accuracy(outputs, labels):\n",
    "    _, preds = torch.max(outputs, dim=1)\n",
    "    return torch.tensor(torch.sum(preds == labels).item() / len(preds))\n",
    "\n",
    "def plot_accuracies(history):\n",
    "    accuracies = [x['val_acc'] for x in history]\n",
    "    plt.plot(accuracies, '-x')\n",
    "    plt.xlabel('epoch')\n",
    "    plt.ylabel('accuracy')\n",
    "    plt.title('Accuracy vs. No. of epochs');\n",
    "\n",
    "def plot_losses(history):\n",
    "    train_losses = [x.get('train_loss') for x in history]\n",
    "    val_losses = [x['val_loss'] for x in history]\n",
    "    plt.plot(train_losses, '-bx')\n",
    "    plt.plot(val_losses, '-rx')\n",
    "    plt.xlabel('epoch')\n",
    "    plt.ylabel('loss')\n",
    "    plt.legend(['Training', 'Validation'])\n",
    "    plt.title('Loss vs. No. of epochs');\n",
    "\n",
    "def fit(epochs, lr, model, train_loader, val_loader, opt_func=torch.optim.SGD):\n",
    "    history = []\n",
    "    optimizer = opt_func(model.parameters(), lr)\n",
    "    for epoch in range(epochs):\n",
    "        # Training Phase \n",
    "        model.train()\n",
    "        train_losses = []\n",
    "        for batch in tqdm(train_loader):\n",
    "            loss = model.training_step(batch)\n",
    "            train_losses.append(loss)\n",
    "            loss.backward()\n",
    "            optimizer.step()\n",
    "            optimizer.zero_grad()\n",
    "        # Validation phase\n",
    "        result = evaluate(model, val_loader)\n",
    "        result['train_loss'] = torch.stack(train_losses).mean().item()\n",
    "        model.epoch_end(epoch, result)\n",
    "        history.append(result)\n",
    "    return history\n",
    "\n",
    "class Model(nn.Module):\n",
    "    def __init__(self, in_size, layer_array = [512, 512, 256, 256], out_size = 28):\n",
    "        super().__init__()\n",
    "        self.network = nn.Sequential(\n",
    "          nn.Linear(in_size, layer_array[0]),\n",
    "          nn.ReLU(),\n",
    "          # nn.Dropout(dropoutProb),\n",
    "          nn.Linear(layer_array[0], layer_array[1]),\n",
    "          nn.ReLU(),\n",
    "          # nn.Dropout(dropoutProb),\n",
    "          nn.Linear(layer_array[1], layer_array[2]),\n",
    "          nn.ReLU(),\n",
    "          # nn.Dropout(dropoutProb),\n",
    "          nn.Linear(layer_array[2], layer_array[3]),\n",
    "          nn.ReLU(),\n",
    "          # nn.Dropout(dropoutProb),\n",
    "          nn.Linear(layer_array[3], out_size)\n",
    "        )\n",
    "        \n",
    "    def forward(self, xb):\n",
    "        softmax = nn.LogSoftmax(dim=0)\n",
    "        return softmax(self.network(xb))\n",
    "\n",
    "    def training_step(self, batch):\n",
    "        values, labels = batch \n",
    "\n",
    "# ---------------------------------------\n",
    "        global cat\n",
    "        cat = cat.append(pd.DataFrame(labels,columns=['label']),ignore_index = True)\n",
    "# ---------------------------------------\n",
    "\n",
    "\n",
    "        values = values.to(device)\n",
    "        labels = labels.to(device)\n",
    "        out = self(values)                  # Generate predictions\n",
    "        loss = nn.functional.nll_loss(out, labels) # Calculate loss\n",
    "        return loss\n",
    "    \n",
    "    def validation_step(self, batch):\n",
    "        values, labels = batch \n",
    "        values = values.to(device)\n",
    "        labels = labels.to(device)\n",
    "        out = self(values)                    # Generate predictions\n",
    "        loss = nn.functional.nll_loss(out, labels)   # Calculate loss\n",
    "        acc = accuracy(out, labels)           # Calculate accuracy\n",
    "        return {'val_loss': loss, 'val_acc': acc}\n",
    "        \n",
    "    def validation_epoch_end(self, outputs):\n",
    "        batch_losses = [x['val_loss'] for x in outputs]\n",
    "        epoch_loss = torch.stack(batch_losses).mean()   # Combine losses\n",
    "        batch_accs = [x['val_acc'] for x in outputs]\n",
    "        epoch_acc = torch.stack(batch_accs).mean()      # Combine accuracies\n",
    "        return {'val_loss': epoch_loss.item(), 'val_acc': epoch_acc.item()}\n",
    "    \n",
    "    def epoch_end(self, epoch, result):\n",
    "        print(\"Epoch [{}], val_loss: {:.4f}, val_acc: {:.4f}\".format(epoch, result['val_loss'], result['val_acc']))\n",
    "\n",
    "# def predict(value, model):\n",
    "#   xb = value\n",
    "#   # //:TODO Check torch.stack\n",
    "#   # xb = torch.stack(value)\n",
    "#   yb = model(xb)\n",
    "#   _, preds  = torch.max(yb, dim=0)\n",
    "#   return preds\n",
    "\n",
    "def predict(value, model):\n",
    "    # Convert to a batch of 1\n",
    "    xb = to_device(value, device)\n",
    "    # Get predictions from model\n",
    "    yb = model(xb)\n",
    "    # print(yb)\n",
    "    # Pick index with highest probability   \n",
    "    _, preds  = torch.max(yb, dim=0)\n",
    "    # print(torch.max(yb, dim=0)[1])\n",
    "    # Retrieve the class label\n",
    "    return preds.item()\n"
   ],
   "outputs": [],
   "metadata": {
    "id": "RRn9NdbPDX9-"
   }
  },
  {
   "cell_type": "code",
   "execution_count": 13,
   "source": [
    "model = Model(inputFeatures, layer_array, outputSize)\n",
    "model = to_device(model, device)\n",
    "model"
   ],
   "outputs": [
    {
     "output_type": "execute_result",
     "data": {
      "text/plain": [
       "Model(\n",
       "  (network): Sequential(\n",
       "    (0): Linear(in_features=8192, out_features=512, bias=True)\n",
       "    (1): ReLU()\n",
       "    (2): Linear(in_features=512, out_features=512, bias=True)\n",
       "    (3): ReLU()\n",
       "    (4): Linear(in_features=512, out_features=256, bias=True)\n",
       "    (5): ReLU()\n",
       "    (6): Linear(in_features=256, out_features=256, bias=True)\n",
       "    (7): ReLU()\n",
       "    (8): Linear(in_features=256, out_features=10, bias=True)\n",
       "  )\n",
       ")"
      ]
     },
     "metadata": {},
     "execution_count": 13
    }
   ],
   "metadata": {
    "colab": {
     "base_uri": "https://localhost:8080/"
    },
    "id": "Q86pntFwOJtl",
    "outputId": "b55a6828-146f-4d71-89c3-61c4e67ee83e"
   }
  },
  {
   "cell_type": "code",
   "execution_count": 14,
   "source": [
    "model.double()\n",
    "history = fit(num_epochs, lr, model, train_dl, val_dl, opt_func)"
   ],
   "outputs": [
    {
     "output_type": "stream",
     "name": "stderr",
     "text": [
      "100%|██████████| 10/10 [00:02<00:00,  3.75it/s]\n"
     ]
    },
    {
     "output_type": "stream",
     "name": "stdout",
     "text": [
      "Epoch [0], val_loss: 4.8872, val_acc: 0.6369\n"
     ]
    },
    {
     "output_type": "stream",
     "name": "stderr",
     "text": [
      "100%|██████████| 10/10 [00:02<00:00,  3.56it/s]\n"
     ]
    },
    {
     "output_type": "stream",
     "name": "stdout",
     "text": [
      "Epoch [1], val_loss: 4.7859, val_acc: 0.6940\n"
     ]
    },
    {
     "output_type": "stream",
     "name": "stderr",
     "text": [
      "100%|██████████| 10/10 [00:02<00:00,  3.59it/s]\n"
     ]
    },
    {
     "output_type": "stream",
     "name": "stdout",
     "text": [
      "Epoch [2], val_loss: 4.7118, val_acc: 0.3702\n"
     ]
    },
    {
     "output_type": "stream",
     "name": "stderr",
     "text": [
      "100%|██████████| 10/10 [00:02<00:00,  3.79it/s]\n"
     ]
    },
    {
     "output_type": "stream",
     "name": "stdout",
     "text": [
      "Epoch [3], val_loss: 4.6487, val_acc: 0.3681\n"
     ]
    },
    {
     "output_type": "stream",
     "name": "stderr",
     "text": [
      "100%|██████████| 10/10 [00:02<00:00,  3.94it/s]\n"
     ]
    },
    {
     "output_type": "stream",
     "name": "stdout",
     "text": [
      "Epoch [4], val_loss: 4.6175, val_acc: 0.4240\n"
     ]
    },
    {
     "output_type": "stream",
     "name": "stderr",
     "text": [
      "100%|██████████| 10/10 [00:02<00:00,  3.71it/s]\n"
     ]
    },
    {
     "output_type": "stream",
     "name": "stdout",
     "text": [
      "Epoch [5], val_loss: 4.5769, val_acc: 0.5156\n"
     ]
    },
    {
     "output_type": "stream",
     "name": "stderr",
     "text": [
      "100%|██████████| 10/10 [00:02<00:00,  3.55it/s]\n"
     ]
    },
    {
     "output_type": "stream",
     "name": "stdout",
     "text": [
      "Epoch [6], val_loss: 4.5297, val_acc: 0.5979\n"
     ]
    },
    {
     "output_type": "stream",
     "name": "stderr",
     "text": [
      "100%|██████████| 10/10 [00:02<00:00,  3.59it/s]\n"
     ]
    },
    {
     "output_type": "stream",
     "name": "stdout",
     "text": [
      "Epoch [7], val_loss: 4.4756, val_acc: 0.6560\n"
     ]
    },
    {
     "output_type": "stream",
     "name": "stderr",
     "text": [
      "100%|██████████| 10/10 [00:02<00:00,  3.75it/s]\n"
     ]
    },
    {
     "output_type": "stream",
     "name": "stdout",
     "text": [
      "Epoch [8], val_loss: 4.4713, val_acc: 0.6957\n"
     ]
    },
    {
     "output_type": "stream",
     "name": "stderr",
     "text": [
      "100%|██████████| 10/10 [00:02<00:00,  3.66it/s]\n"
     ]
    },
    {
     "output_type": "stream",
     "name": "stdout",
     "text": [
      "Epoch [9], val_loss: 4.4723, val_acc: 0.6546\n"
     ]
    },
    {
     "output_type": "stream",
     "name": "stderr",
     "text": [
      "100%|██████████| 10/10 [00:02<00:00,  3.59it/s]\n"
     ]
    },
    {
     "output_type": "stream",
     "name": "stdout",
     "text": [
      "Epoch [10], val_loss: 4.4370, val_acc: 0.7166\n"
     ]
    },
    {
     "output_type": "stream",
     "name": "stderr",
     "text": [
      "100%|██████████| 10/10 [00:02<00:00,  3.65it/s]\n"
     ]
    },
    {
     "output_type": "stream",
     "name": "stdout",
     "text": [
      "Epoch [11], val_loss: 4.4458, val_acc: 0.7171\n"
     ]
    },
    {
     "output_type": "stream",
     "name": "stderr",
     "text": [
      "100%|██████████| 10/10 [00:02<00:00,  3.61it/s]\n"
     ]
    },
    {
     "output_type": "stream",
     "name": "stdout",
     "text": [
      "Epoch [12], val_loss: 4.4506, val_acc: 0.7107\n"
     ]
    },
    {
     "output_type": "stream",
     "name": "stderr",
     "text": [
      "100%|██████████| 10/10 [00:02<00:00,  3.55it/s]\n"
     ]
    },
    {
     "output_type": "stream",
     "name": "stdout",
     "text": [
      "Epoch [13], val_loss: 4.4500, val_acc: 0.7057\n"
     ]
    },
    {
     "output_type": "stream",
     "name": "stderr",
     "text": [
      "100%|██████████| 10/10 [00:02<00:00,  3.54it/s]\n"
     ]
    },
    {
     "output_type": "stream",
     "name": "stdout",
     "text": [
      "Epoch [14], val_loss: 4.4729, val_acc: 0.6936\n"
     ]
    },
    {
     "output_type": "stream",
     "name": "stderr",
     "text": [
      "100%|██████████| 10/10 [00:02<00:00,  3.70it/s]\n"
     ]
    },
    {
     "output_type": "stream",
     "name": "stdout",
     "text": [
      "Epoch [15], val_loss: 4.4747, val_acc: 0.6552\n"
     ]
    },
    {
     "output_type": "stream",
     "name": "stderr",
     "text": [
      "100%|██████████| 10/10 [00:02<00:00,  3.70it/s]\n"
     ]
    },
    {
     "output_type": "stream",
     "name": "stdout",
     "text": [
      "Epoch [16], val_loss: 4.5205, val_acc: 0.6969\n"
     ]
    },
    {
     "output_type": "stream",
     "name": "stderr",
     "text": [
      "100%|██████████| 10/10 [00:02<00:00,  3.64it/s]\n"
     ]
    },
    {
     "output_type": "stream",
     "name": "stdout",
     "text": [
      "Epoch [17], val_loss: 4.4910, val_acc: 0.7212\n"
     ]
    },
    {
     "output_type": "stream",
     "name": "stderr",
     "text": [
      "100%|██████████| 10/10 [00:02<00:00,  3.66it/s]\n"
     ]
    },
    {
     "output_type": "stream",
     "name": "stdout",
     "text": [
      "Epoch [18], val_loss: 4.4861, val_acc: 0.7238\n"
     ]
    },
    {
     "output_type": "stream",
     "name": "stderr",
     "text": [
      "100%|██████████| 10/10 [00:02<00:00,  3.59it/s]\n"
     ]
    },
    {
     "output_type": "stream",
     "name": "stdout",
     "text": [
      "Epoch [19], val_loss: 4.5318, val_acc: 0.7345\n",
      "0:01:07.926996\n"
     ]
    }
   ],
   "metadata": {
    "colab": {
     "base_uri": "https://localhost:8080/"
    },
    "id": "yBmGGPzXOJvJ",
    "outputId": "de2d7a52-de1f-4fcb-eb54-df65ac4a869d"
   }
  },
  {
   "cell_type": "markdown",
   "source": [
    "0:01:40.396880\\\n",
    "0:02:31.303028"
   ],
   "metadata": {
    "id": "0MR63CvxN1qR"
   }
  },
  {
   "cell_type": "code",
   "execution_count": 15,
   "source": [
    "plot_accuracies(history)"
   ],
   "outputs": [
    {
     "output_type": "display_data",
     "data": {
      "text/plain": [
       "<Figure size 432x288 with 1 Axes>"
      ],
      "image/png": "[encoded data removed]"
     },
     "metadata": {
      "needs_background": "light"
     }
    }
   ],
   "metadata": {
    "colab": {
     "base_uri": "https://localhost:8080/",
     "height": 295
    },
    "id": "3pJ4vbkGOJzU",
    "outputId": "97431cc1-fae2-495c-a71b-1e072d217a7d"
   }
  },
  {
   "cell_type": "code",
   "execution_count": 16,
   "source": [
    "plot_losses(history)"
   ],
   "outputs": [
    {
     "output_type": "display_data",
     "data": {
      "text/plain": [
       "<Figure size 432x288 with 1 Axes>"
      ],
      "image/png": "[encoded data removed]"
     },
     "metadata": {
      "needs_background": "light"
     }
    }
   ],
   "metadata": {
    "colab": {
     "base_uri": "https://localhost:8080/",
     "height": 295
    },
    "id": "iFTRQmYYaZ6I",
    "outputId": "4f4274f2-cf1e-462b-9ca1-e99de9c21b3a"
   }
  },
  {
   "cell_type": "code",
   "execution_count": 17,
   "source": [
    "testingDataset = HDF5Dataset(\n",
    "    '/home/chamikanandasiri/Test/Plasmid(testing0.008)Dataset.h5', True)"
   ],
   "outputs": [
    {
     "output_type": "stream",
     "name": "stderr",
     "text": [
      "100%|██████████| 1552/1552 [00:01<00:00, 841.96it/s]\n"
     ]
    }
   ],
   "metadata": {}
  },
  {
   "cell_type": "code",
   "execution_count": 18,
   "source": [
    "test_dl = DataLoader(testingDataset, batchSize, num_workers=4, pin_memory=True)"
   ],
   "outputs": [],
   "metadata": {}
  },
  {
   "cell_type": "code",
   "execution_count": 19,
   "source": [
    "cor = []\n",
    "incor = []\n",
    "for i in range(580):\n",
    "    prediction = predict(testingDataset[i][0], model)\n",
    "    label = testingDataset[i][1].item()\n",
    "    # print(label)\n",
    "    if(prediction == label):\n",
    "        cor.append([label, prediction])\n",
    "    else:\n",
    "        incor.append([label, prediction])\n"
   ],
   "outputs": [],
   "metadata": {
    "colab": {
     "base_uri": "https://localhost:8080/",
     "height": 163
    },
    "id": "ejrECRkDacq8",
    "outputId": "5789bfb6-9443-40ef-d5ff-2aa74e7aca40"
   }
  },
  {
   "cell_type": "code",
   "execution_count": 20,
   "source": [
    "correct_df = pd.DataFrame(cor, columns=['label', 'prediction'])\n",
    "incorrect_df = pd.DataFrame(incor, columns=['label', 'prediction'])"
   ],
   "outputs": [],
   "metadata": {
    "id": "KcwDLaPOodlc"
   }
  },
  {
   "cell_type": "code",
   "execution_count": 21,
   "source": [
    "incorrect_df.head()"
   ],
   "outputs": [
    {
     "output_type": "execute_result",
     "data": {
      "text/plain": [
       "   label  prediction\n",
       "0      1           7\n",
       "1      0           9\n",
       "2      0           9\n",
       "3      0           9\n",
       "4      0           9"
      ],
      "text/html": [
       "<div>\n",
       "<style scoped>\n",
       "    .dataframe tbody tr th:only-of-type {\n",
       "        vertical-align: middle;\n",
       "    }\n",
       "\n",
       "    .dataframe tbody tr th {\n",
       "        vertical-align: top;\n",
       "    }\n",
       "\n",
       "    .dataframe thead th {\n",
       "        text-align: right;\n",
       "    }\n",
       "</style>\n",
       "<table border=\"1\" class=\"dataframe\">\n",
       "  <thead>\n",
       "    <tr style=\"text-align: right;\">\n",
       "      <th></th>\n",
       "      <th>label</th>\n",
       "      <th>prediction</th>\n",
       "    </tr>\n",
       "  </thead>\n",
       "  <tbody>\n",
       "    <tr>\n",
       "      <th>0</th>\n",
       "      <td>1</td>\n",
       "      <td>7</td>\n",
       "    </tr>\n",
       "    <tr>\n",
       "      <th>1</th>\n",
       "      <td>0</td>\n",
       "      <td>9</td>\n",
       "    </tr>\n",
       "    <tr>\n",
       "      <th>2</th>\n",
       "      <td>0</td>\n",
       "      <td>9</td>\n",
       "    </tr>\n",
       "    <tr>\n",
       "      <th>3</th>\n",
       "      <td>0</td>\n",
       "      <td>9</td>\n",
       "    </tr>\n",
       "    <tr>\n",
       "      <th>4</th>\n",
       "      <td>0</td>\n",
       "      <td>9</td>\n",
       "    </tr>\n",
       "  </tbody>\n",
       "</table>\n",
       "</div>"
      ]
     },
     "metadata": {},
     "execution_count": 21
    }
   ],
   "metadata": {}
  },
  {
   "cell_type": "code",
   "execution_count": 22,
   "source": [
    "incorrect_df['prediction'].value_counts()"
   ],
   "outputs": [
    {
     "output_type": "execute_result",
     "data": {
      "text/plain": [
       "9    208\n",
       "2    204\n",
       "7     99\n",
       "1     29\n",
       "Name: prediction, dtype: int64"
      ]
     },
     "metadata": {},
     "execution_count": 22
    }
   ],
   "metadata": {}
  },
  {
   "cell_type": "code",
   "execution_count": 23,
   "source": [
    "correct_df.head()"
   ],
   "outputs": [
    {
     "output_type": "execute_result",
     "data": {
      "text/plain": [
       "   label  prediction\n",
       "0      2           2\n",
       "1      2           2\n",
       "2      2           2\n",
       "3      2           2\n",
       "4      2           2"
      ],
      "text/html": [
       "<div>\n",
       "<style scoped>\n",
       "    .dataframe tbody tr th:only-of-type {\n",
       "        vertical-align: middle;\n",
       "    }\n",
       "\n",
       "    .dataframe tbody tr th {\n",
       "        vertical-align: top;\n",
       "    }\n",
       "\n",
       "    .dataframe thead th {\n",
       "        text-align: right;\n",
       "    }\n",
       "</style>\n",
       "<table border=\"1\" class=\"dataframe\">\n",
       "  <thead>\n",
       "    <tr style=\"text-align: right;\">\n",
       "      <th></th>\n",
       "      <th>label</th>\n",
       "      <th>prediction</th>\n",
       "    </tr>\n",
       "  </thead>\n",
       "  <tbody>\n",
       "    <tr>\n",
       "      <th>0</th>\n",
       "      <td>2</td>\n",
       "      <td>2</td>\n",
       "    </tr>\n",
       "    <tr>\n",
       "      <th>1</th>\n",
       "      <td>2</td>\n",
       "      <td>2</td>\n",
       "    </tr>\n",
       "    <tr>\n",
       "      <th>2</th>\n",
       "      <td>2</td>\n",
       "      <td>2</td>\n",
       "    </tr>\n",
       "    <tr>\n",
       "      <th>3</th>\n",
       "      <td>2</td>\n",
       "      <td>2</td>\n",
       "    </tr>\n",
       "    <tr>\n",
       "      <th>4</th>\n",
       "      <td>2</td>\n",
       "      <td>2</td>\n",
       "    </tr>\n",
       "  </tbody>\n",
       "</table>\n",
       "</div>"
      ]
     },
     "metadata": {},
     "execution_count": 23
    }
   ],
   "metadata": {}
  },
  {
   "cell_type": "code",
   "execution_count": 24,
   "source": [
    "correct_df['prediction'].value_counts()"
   ],
   "outputs": [
    {
     "output_type": "execute_result",
     "data": {
      "text/plain": [
       "2    34\n",
       "7     4\n",
       "1     2\n",
       "Name: prediction, dtype: int64"
      ]
     },
     "metadata": {},
     "execution_count": 24
    }
   ],
   "metadata": {}
  },
  {
   "cell_type": "code",
   "execution_count": 25,
   "source": [
    "training_df = pd.DataFrame(tens,columns=['label'])"
   ],
   "outputs": [],
   "metadata": {}
  },
  {
   "cell_type": "code",
   "execution_count": 26,
   "source": [
    "training_df.label.value_counts()"
   ],
   "outputs": [
    {
     "output_type": "execute_result",
     "data": {
      "text/plain": [
       "0    1425\n",
       "1     238\n",
       "2      93\n",
       "6      29\n",
       "7      17\n",
       "5      15\n",
       "8      11\n",
       "9       7\n",
       "3       3\n",
       "4       2\n",
       "Name: label, dtype: int64"
      ]
     },
     "metadata": {},
     "execution_count": 26
    }
   ],
   "metadata": {}
  },
  {
   "cell_type": "code",
   "execution_count": 27,
   "source": [
    "cat.label.value_counts()"
   ],
   "outputs": [
    {
     "output_type": "execute_result",
     "data": {
      "text/plain": [
       "0    28652\n",
       "1     4785\n",
       "2     1871\n",
       "6      582\n",
       "7      343\n",
       "5      303\n",
       "8      221\n",
       "9      142\n",
       "3       61\n",
       "4       40\n",
       "Name: label, dtype: int64"
      ]
     },
     "metadata": {},
     "execution_count": 27
    }
   ],
   "metadata": {}
  }
 ],
 "metadata": {
  "accelerator": "GPU",
  "colab": {
   "collapsed_sections": [],
   "name": "Plasmid_Chromosome Model 0.2.0 gayal.ipynb",
   "provenance": []
  },
  "interpreter": {
   "hash": "31f2aee4e71d21fbe5cf8b01ff0e069b9275f58929596ceb00d14d90e3e16cd6"
  },
  "kernelspec": {
   "name": "python3",
   "display_name": "Python 3.7.10 64-bit"
  },
  "language_info": {
   "codemirror_mode": {
    "name": "ipython",
    "version": 3
   },
   "file_extension": ".py",
   "mimetype": "text/x-python",
   "name": "python",
   "nbconvert_exporter": "python",
   "pygments_lexer": "ipython3",
   "version": "3.7.10"
  }
 },
 "nbformat": 4,
 "nbformat_minor": 2
}